{
 "cells": [
  {
   "cell_type": "code",
   "execution_count": 33,
   "id": "8189f099",
   "metadata": {},
   "outputs": [],
   "source": [
    "%pip install 'qiskit[optimization]'\n",
    "%pip install networkx\n",
    "\n",
    "from IPython.display import clear_output\n",
    "clear_output()"
   ]
  },
  {
   "cell_type": "code",
   "execution_count": 61,
   "id": "69f7af87",
   "metadata": {},
   "outputs": [],
   "source": [
    "%matplotlib inline\n",
    "\n",
    "# useful packages\n",
    "import matplotlib.pyplot as plt\n",
    "import matplotlib.axes as axes\n",
    "import numpy as np\n",
    "import networkx as nx\n",
    "\n",
    "from qiskit.tools.visualization import plot_histogram\n",
    "from qiskit.circuit.library import TwoLocal\n",
    "from qiskit_optimization.applications import Maxcut, Tsp\n",
    "from qiskit.algorithms import VQE, NumPyMinimumEigensolver\n",
    "from qiskit.algorithms.optimizers import SPSA\n",
    "from qiskit.utils import algorithm_globals, QuantumInstance\n",
    "from qiskit_optimization.algorithms import MinimumEigenOptimizer\n",
    "from qiskit_optimization.problems import QuadraticProgram\n",
    "from qiskit import Aer, IBMQ\n",
    "from qiskit import QuantumRegister, ClassicalRegister, QuantumCircuit, execute\n",
    "from qiskit.providers.ibmq import least_busy\n",
    "from qiskit.tools.monitor import job_monitor\n",
    "from qiskit.visualization import plot_histogram"
   ]
  },
  {
   "cell_type": "markdown",
   "id": "3e49dc0a",
   "metadata": {},
   "source": [
    "## MaxCut 2x2 Ising Model"
   ]
  },
  {
   "cell_type": "code",
   "execution_count": 62,
   "id": "2fd73935",
   "metadata": {},
   "outputs": [],
   "source": [
    "# Generating the system\n",
    "\n",
    "N = 2\n",
    "G1 = nx.grid_2d_graph(N,N)\n",
    "pos = dict( (n, n) for n in G1.nodes() )\n",
    "labels = dict( ((i, j), i * N + j) for i, j in G1.nodes() )"
   ]
  },
  {
   "cell_type": "code",
   "execution_count": 63,
   "id": "e1c94129",
   "metadata": {},
   "outputs": [
    {
     "data": {
      "image/png": "[encoded data removed]",
      "text/plain": [
       "<Figure size 432x288 with 1 Axes>"
      ]
     },
     "metadata": {},
     "output_type": "display_data"
    }
   ],
   "source": [
    "# Transform to weighted graph:\n",
    "n = N**2\n",
    "V = np.arange(0, N, 1)\n",
    "\n",
    "E =[]\n",
    "\n",
    "tuples = []\n",
    "other_tup = []\n",
    "point_edge_map = []\n",
    "other_map = []\n",
    "relations = []\n",
    "\n",
    "for edge in G1.edges:\n",
    "    point1 = edge[0]\n",
    "    strpoint1 = str(point1[0]) + str(point1[1])\n",
    "    point2 = edge[1]\n",
    "    strpoint2 = str(point2[0]) + str(point2[1])\n",
    "    if not strpoint1 in point_edge_map:\n",
    "        point_edge_map.append(strpoint1)\n",
    "        tuples.append(edge[0])\n",
    "    if not strpoint2 in other_map:\n",
    "        other_map.append(strpoint2)\n",
    "        other_tup.append(edge[1])\n",
    "    relations.append((strpoint1, strpoint2))\n",
    "\n",
    "tuples.append(other_tup[len(other_tup) - 1])\n",
    "point_edge_map.append(other_map[len(other_map) - 1])\n",
    "\n",
    "dic = {}\n",
    "for i in range(len(point_edge_map)):\n",
    "    dic[i] = point_edge_map[i]\n",
    "    \n",
    "point_edge_map = np.array(point_edge_map)\n",
    "relations = np.array(relations)\n",
    "\n",
    "for relation in relations:\n",
    "    ver1 = relation[0]\n",
    "    ver2 = relation[1]\n",
    "    point1 = np.where(point_edge_map == ver1)[0][0]\n",
    "    point2 = np.where(point_edge_map == ver2)[0][0]\n",
    "    edge = (point1, point2, 1.0)\n",
    "    E.append(edge)\n",
    "    \n",
    "G = nx.Graph()\n",
    "\n",
    "G.add_nodes_from(V)\n",
    "\n",
    "G.add_weighted_edges_from(E)\n",
    "\n",
    "colors = [\"b\" for node in G.nodes()]\n",
    "pos = dict()\n",
    "for i in range(n):\n",
    "    pos[i] = tuples[i]\n",
    "\n",
    "def draw_graph(G, colors, pos):\n",
    "    default_axes = plt.axes(frameon=True)\n",
    "    nx.draw_networkx(G, node_color=colors, node_size=600, alpha=0.8, ax=default_axes, pos=pos)\n",
    "    edge_labels = nx.get_edge_attributes(G, \"weight\")\n",
    "    nx.draw_networkx_edge_labels(G, pos=pos, edge_labels=edge_labels)\n",
    "\n",
    "\n",
    "draw_graph(G, colors, pos)"
   ]
  },
  {
   "cell_type": "markdown",
   "id": "eacdd2f6",
   "metadata": {},
   "source": [
    "# Representing Graphs in terms of Adjacency Matrix\n",
    "$$\\newcommand{\\ket}[1]{\\left|{#1}\\right\\rangle}$$\n",
    "$$\\newcommand{\\bra}[1]{\\left\\langle{#1}\\right|}$$\n",
    "For a non directed graph with n verticies, on can represent it in term of an adjacency matrix:\n",
    "$$\\sum_{i=1}^n \\sum_{j=1}^n m_{ij} \\ket{i}\\bra{j}$$\n",
    "Where $m_{ij} = $ weight of edge ij and 0 if there is no edge between the two vertices"
   ]
  },
  {
   "cell_type": "code",
   "execution_count": 64,
   "id": "c62629d7",
   "metadata": {},
   "outputs": [
    {
     "name": "stdout",
     "output_type": "stream",
     "text": [
      "[[0. 1. 1. 0.]\n",
      " [1. 0. 0. 1.]\n",
      " [1. 0. 0. 1.]\n",
      " [0. 1. 1. 0.]]\n"
     ]
    }
   ],
   "source": [
    "# Matrix Representation of Graph\n",
    "w = np.zeros([n, n])\n",
    "for i in range(n):\n",
    "    for j in range(n):\n",
    "        temp = G.get_edge_data(i, j, default=0)\n",
    "        if temp != 0:\n",
    "            w[i, j] = temp[\"weight\"]\n",
    "\n",
    "print(w)"
   ]
  },
  {
   "cell_type": "markdown",
   "id": "fcd8cd22",
   "metadata": {},
   "source": [
    "## Classical (Brute Force) Approach"
   ]
  },
  {
   "cell_type": "code",
   "execution_count": 65,
   "id": "fa38a90d",
   "metadata": {},
   "outputs": [
    {
     "name": "stdout",
     "output_type": "stream",
     "text": [
      "case = [0, 0, 0, 0] cost = 0.0\n",
      "case = [1, 0, 0, 0] cost = 2.0\n",
      "case = [0, 1, 0, 0] cost = 2.0\n",
      "case = [1, 1, 0, 0] cost = 2.0\n",
      "case = [0, 0, 1, 0] cost = 2.0\n",
      "case = [1, 0, 1, 0] cost = 2.0\n",
      "case = [0, 1, 1, 0] cost = 4.0\n",
      "case = [1, 1, 1, 0] cost = 2.0\n",
      "case = [0, 0, 0, 1] cost = 2.0\n",
      "case = [1, 0, 0, 1] cost = 4.0\n",
      "case = [0, 1, 0, 1] cost = 2.0\n",
      "case = [1, 1, 0, 1] cost = 2.0\n",
      "case = [0, 0, 1, 1] cost = 2.0\n",
      "case = [1, 0, 1, 1] cost = 2.0\n",
      "case = [0, 1, 1, 1] cost = 2.0\n",
      "case = [1, 1, 1, 1] cost = 0.0\n",
      "CPU times: user 1.94 ms, sys: 1.15 ms, total: 3.09 ms\n",
      "Wall time: 2.14 ms\n"
     ]
    }
   ],
   "source": [
    "%%time\n",
    "\n",
    "best_cost_brute = 0\n",
    "config = []\n",
    "for b in range(2**n):\n",
    "    x = [int(t) for t in reversed(list(bin(b)[2:].zfill(n)))]\n",
    "    cost = 0\n",
    "    for i in range(n):\n",
    "        for j in range(n):\n",
    "            cost = cost + w[i, j] * x[i] * (1 - x[j])\n",
    "    if best_cost_brute < cost:\n",
    "        best_cost_brute = cost\n",
    "        xbest_brute = x\n",
    "    config.append((x, ))\n",
    "    print(\"case = \" + str(x) + \" cost = \" + str(cost))\n",
    "\n",
    "# print(\"\\nBest solution = \" + str(xbest_brute) + \" cost = \" + str(best_cost_brute))"
   ]
  },
  {
   "cell_type": "code",
   "execution_count": 66,
   "id": "a9e24e29",
   "metadata": {},
   "outputs": [
    {
     "data": {
      "image/png": "[encoded data removed]",
      "text/plain": [
       "<Figure size 432x288 with 1 Axes>"
      ]
     },
     "metadata": {},
     "output_type": "display_data"
    }
   ],
   "source": [
    "colors = [\"r\" if xbest_brute[i] == 0 else \"c\" for i in range(n)]\n",
    "draw_graph(G, colors, pos)"
   ]
  },
  {
   "cell_type": "markdown",
   "id": "a6bbb8e4",
   "metadata": {},
   "source": [
    "### Mapping to the Ising problem\n",
    "\n",
    "Qiskit provides functionality to generate `QuadraticProgram` from the problem specification as well as create the corresponding Ising Hamiltonian."
   ]
  },
  {
   "cell_type": "code",
   "execution_count": 67,
   "id": "00d501f5",
   "metadata": {},
   "outputs": [
    {
     "name": "stdout",
     "output_type": "stream",
     "text": [
      "Problem name: Max-cut\n",
      "\n",
      "Maximize\n",
      "  -2*x_0*x_1 - 2*x_0*x_2 - 2*x_1*x_3 - 2*x_2*x_3 + 2*x_0 + 2*x_1 + 2*x_2 + 2*x_3\n",
      "\n",
      "Subject to\n",
      "  No constraints\n",
      "\n",
      "  Binary variables (4)\n",
      "    x_0 x_1 x_2 x_3\n",
      "\n"
     ]
    }
   ],
   "source": [
    "max_cut = Maxcut(w)\n",
    "qp = max_cut.to_quadratic_program()\n",
    "print(qp.prettyprint())"
   ]
  },
  {
   "cell_type": "code",
   "execution_count": 68,
   "id": "051ea056",
   "metadata": {},
   "outputs": [
    {
     "name": "stdout",
     "output_type": "stream",
     "text": [
      "Offset: -2.0\n",
      "Ising Hamiltonian:\n",
      "0.5 * IIZZ\n",
      "+ 0.5 * IZIZ\n",
      "+ 0.5 * ZIZI\n",
      "+ 0.5 * ZZII\n"
     ]
    }
   ],
   "source": [
    "qubitOp, offset = qp.to_ising()\n",
    "print(\"Offset:\", offset)\n",
    "print(\"Ising Hamiltonian:\")\n",
    "print(str(qubitOp))"
   ]
  },
  {
   "cell_type": "code",
   "execution_count": 69,
   "id": "f61c5d7d",
   "metadata": {},
   "outputs": [
    {
     "name": "stdout",
     "output_type": "stream",
     "text": [
      "objective function value: 4.0\n",
      "variable values: x_0=0.0, x_1=1.0, x_2=1.0, x_3=0.0\n",
      "status: SUCCESS\n"
     ]
    }
   ],
   "source": [
    "# solving Quadratic Program using exact classical eigensolver\n",
    "exact = MinimumEigenOptimizer(NumPyMinimumEigensolver())\n",
    "result = exact.solve(qp)\n",
    "print(result.prettyprint())"
   ]
  },
  {
   "cell_type": "markdown",
   "id": "a417b6f4",
   "metadata": {},
   "source": [
    "### Checking that the full Hamiltonian gives the right cost "
   ]
  },
  {
   "cell_type": "code",
   "execution_count": 70,
   "id": "bb80f6e3",
   "metadata": {},
   "outputs": [
    {
     "name": "stdout",
     "output_type": "stream",
     "text": [
      "energy: -2.0\n",
      "max-cut objective: -4.0\n",
      "solution: [0 1 1 0]\n",
      "solution objective: 4.0\n"
     ]
    },
    {
     "data": {
      "image/png": "[encoded data removed]",
      "text/plain": [
       "<Figure size 432x288 with 1 Axes>"
      ]
     },
     "metadata": {},
     "output_type": "display_data"
    }
   ],
   "source": [
    "# Making the Hamiltonian in its full form and getting the lowest eigenvalue and eigenvector\n",
    "ee = NumPyMinimumEigensolver()\n",
    "result = ee.compute_minimum_eigenvalue(qubitOp)\n",
    "\n",
    "x = max_cut.sample_most_likely(result.eigenstate)\n",
    "print(\"energy:\", result.eigenvalue.real)\n",
    "print(\"max-cut objective:\", result.eigenvalue.real + offset)\n",
    "print(\"solution:\", x)\n",
    "print(\"solution objective:\", qp.objective.evaluate(x))\n",
    "\n",
    "colors = [\"r\" if x[i] == 0 else \"c\" for i in range(n)]\n",
    "draw_graph(G, colors, pos)"
   ]
  },
  {
   "cell_type": "markdown",
   "id": "ee3c0986",
   "metadata": {},
   "source": [
    "### Running it on quantum computer\n",
    "We run the optimization routine using a feedback loop with a quantum computer that uses trial functions built with Y single-qubit rotations, $U_\\mathrm{single}(\\theta) = \\prod_{i=1}^n Y(\\theta_{i})$, and entangler steps $U_\\mathrm{entangler}$."
   ]
  },
  {
   "cell_type": "code",
   "execution_count": 71,
   "id": "fb761d7c",
   "metadata": {},
   "outputs": [
    {
     "name": "stderr",
     "output_type": "stream",
     "text": [
      "configrc.store_credentials:WARNING:2022-09-23 16:01:32,200: Credentials already present. Set overwrite=True to overwrite.\n",
      "ibmqfactory.load_account:WARNING:2022-09-23 16:01:32,382: Credentials are already in use. The existing account in the session will be replaced.\n"
     ]
    },
    {
     "name": "stdout",
     "output_type": "stream",
     "text": [
      "\n",
      "Here is the list of cloud backends that are available to you:\n",
      "ibmq_qasm_simulator\n",
      "ibmq_lima\n",
      "ibmq_belem\n",
      "ibmq_quito\n",
      "simulator_statevector\n",
      "simulator_mps\n",
      "simulator_extended_stabilizer\n",
      "simulator_stabilizer\n",
      "ibmq_manila\n",
      "ibm_nairobi\n",
      "ibm_oslo\n"
     ]
    }
   ],
   "source": [
    "from qiskit.tools.monitor import job_monitor\n",
    "\n",
    "IBMQ.save_account(\"7cb4f79065a907acf99992e460fff346bbd8434797d53f2be93eed106bfbcb23e32c91e9809b269b8726306c3d357b1ce0d037b0e3efb749898da522a89c0932\")\n",
    "provider = IBMQ.load_account()\n",
    "\n",
    "available_cloud_backends = provider.backends()\n",
    "print('\\nHere is the list of cloud backends that are available to you:')\n",
    "for i in available_cloud_backends: print(i)"
   ]
  },
  {
   "cell_type": "code",
   "execution_count": 72,
   "id": "31c582a6",
   "metadata": {},
   "outputs": [],
   "source": [
    "algorithm_globals.random_seed = 123\n",
    "seed = 10598\n",
    "backend = Aer.get_backend('qasm_simulator')\n",
    "quantum_instance = QuantumInstance(backend, seed_simulator=seed, seed_transpiler=seed)"
   ]
  },
  {
   "cell_type": "code",
   "execution_count": 73,
   "id": "79e9c1e5",
   "metadata": {},
   "outputs": [
    {
     "name": "stdout",
     "output_type": "stream",
     "text": [
      "energy: -1.9941406250000002\n",
      "time: 2.3139829635620117\n",
      "max-cut objective: -3.994140625\n",
      "solution: [0 1 1 0]\n",
      "solution objective: 4.0\n"
     ]
    },
    {
     "data": {
      "image/png": "[encoded data removed]",
      "text/plain": [
       "<Figure size 432x288 with 1 Axes>"
      ]
     },
     "metadata": {},
     "output_type": "display_data"
    }
   ],
   "source": [
    "# construct VQE\n",
    "spsa = SPSA(maxiter=300)\n",
    "ry = TwoLocal(qubitOp.num_qubits, \"ry\", \"cz\", reps=5, entanglement=\"linear\")\n",
    "vqe = VQE(ry, optimizer=spsa, quantum_instance=quantum_instance)\n",
    "\n",
    "# run VQE\n",
    "result = vqe.compute_minimum_eigenvalue(qubitOp)\n",
    "\n",
    "# print results\n",
    "x = max_cut.sample_most_likely(result.eigenstate)\n",
    "print(\"energy:\", result.eigenvalue.real)\n",
    "print(\"time:\", result.optimizer_time)\n",
    "print(\"max-cut objective:\", result.eigenvalue.real + offset)\n",
    "print(\"solution:\", x)\n",
    "print(\"solution objective:\", qp.objective.evaluate(x))\n",
    "\n",
    "# plot results\n",
    "colors = [\"r\" if x[i] == 0 else \"c\" for i in range(n)]\n",
    "draw_graph(G, colors, pos)"
   ]
  },
  {
   "cell_type": "code",
   "execution_count": 74,
   "id": "b82b1376",
   "metadata": {},
   "outputs": [
    {
     "name": "stdout",
     "output_type": "stream",
     "text": [
      "objective function value: 4.0\n",
      "variable values: x_0=0.0, x_1=1.0, x_2=1.0, x_3=0.0\n",
      "status: SUCCESS\n"
     ]
    },
    {
     "data": {
      "image/png": "[encoded data removed]",
      "text/plain": [
       "<Figure size 432x288 with 1 Axes>"
      ]
     },
     "metadata": {},
     "output_type": "display_data"
    }
   ],
   "source": [
    "# create minimum eigen optimizer based on VQE\n",
    "vqe_optimizer = MinimumEigenOptimizer(vqe)\n",
    "\n",
    "# solve quadratic program\n",
    "result = vqe_optimizer.solve(qp)\n",
    "print(result.prettyprint())\n",
    "\n",
    "colors = [\"r\" if result.x[i] == 0 else \"c\" for i in range(n)]\n",
    "draw_graph(G, colors, pos)"
   ]
  },
  {
   "cell_type": "markdown",
   "id": "479bf200",
   "metadata": {},
   "source": [
    "## MaxCut 3x3 Ising Model"
   ]
  },
  {
   "cell_type": "code",
   "execution_count": 75,
   "id": "be530e45",
   "metadata": {},
   "outputs": [],
   "source": [
    "# Generating the system\n",
    "\n",
    "N = 3\n",
    "G1 = nx.grid_2d_graph(N,N)\n",
    "pos = dict( (n, n) for n in G1.nodes() )\n",
    "labels = dict( ((i, j), i * N + j) for i, j in G1.nodes() )"
   ]
  },
  {
   "cell_type": "code",
   "execution_count": 76,
   "id": "893cc0df",
   "metadata": {},
   "outputs": [
    {
     "data": {
      "image/png": "[encoded data removed]",
      "text/plain": [
       "<Figure size 432x288 with 1 Axes>"
      ]
     },
     "metadata": {},
     "output_type": "display_data"
    }
   ],
   "source": [
    "# Transform to weighted graph:\n",
    "n = N**2\n",
    "V = np.arange(0, N, 1)\n",
    "\n",
    "E =[]\n",
    "\n",
    "tuples = []\n",
    "other_tup = []\n",
    "point_edge_map = []\n",
    "other_map = []\n",
    "relations = []\n",
    "\n",
    "for edge in G1.edges:\n",
    "    point1 = edge[0]\n",
    "    strpoint1 = str(point1[0]) + str(point1[1])\n",
    "    point2 = edge[1]\n",
    "    strpoint2 = str(point2[0]) + str(point2[1])\n",
    "    if not strpoint1 in point_edge_map:\n",
    "        point_edge_map.append(strpoint1)\n",
    "        tuples.append(edge[0])\n",
    "    if not strpoint2 in other_map:\n",
    "        other_map.append(strpoint2)\n",
    "        other_tup.append(edge[1])\n",
    "    relations.append((strpoint1, strpoint2))\n",
    "\n",
    "tuples.append(other_tup[len(other_tup) - 1])\n",
    "point_edge_map.append(other_map[len(other_map) - 1])\n",
    "\n",
    "dic = {}\n",
    "for i in range(len(point_edge_map)):\n",
    "    dic[i] = point_edge_map[i]\n",
    "    \n",
    "point_edge_map = np.array(point_edge_map)\n",
    "relations = np.array(relations)\n",
    "\n",
    "for relation in relations:\n",
    "    ver1 = relation[0]\n",
    "    ver2 = relation[1]\n",
    "    point1 = np.where(point_edge_map == ver1)[0][0]\n",
    "    point2 = np.where(point_edge_map == ver2)[0][0]\n",
    "    edge = (point1, point2, 1.0)\n",
    "    E.append(edge)\n",
    "    \n",
    "G = nx.Graph()\n",
    "\n",
    "G.add_nodes_from(V)\n",
    "\n",
    "G.add_weighted_edges_from(E)\n",
    "\n",
    "colors = [\"b\" for node in G.nodes()]\n",
    "pos = dict()\n",
    "for i in range(n):\n",
    "    pos[i] = tuples[i]\n",
    "\n",
    "def draw_graph(G, colors, pos):\n",
    "    default_axes = plt.axes(frameon=True)\n",
    "    nx.draw_networkx(G, node_color=colors, node_size=600, alpha=0.8, ax=default_axes, pos=pos)\n",
    "    edge_labels = nx.get_edge_attributes(G, \"weight\")\n",
    "    nx.draw_networkx_edge_labels(G, pos=pos, edge_labels=edge_labels)\n",
    "\n",
    "\n",
    "draw_graph(G, colors, pos)"
   ]
  },
  {
   "cell_type": "markdown",
   "id": "77444aa3",
   "metadata": {},
   "source": [
    "# Representing Graphs in terms of Adjacency Matrix\n",
    "$$\\newcommand{\\ket}[1]{\\left|{#1}\\right\\rangle}$$\n",
    "$$\\newcommand{\\bra}[1]{\\left\\langle{#1}\\right|}$$\n",
    "For a non directed graph with n verticies, on can represent it in term of an adjacency matrix:\n",
    "$$\\sum_{i=1}^n \\sum_{j=1}^n m_{ij} \\ket{i}\\bra{j}$$\n",
    "Where $m_{ij} = $ weight of edge ij and 0 if there is no edge between the two vertices"
   ]
  },
  {
   "cell_type": "code",
   "execution_count": 77,
   "id": "0739a0e3",
   "metadata": {},
   "outputs": [
    {
     "name": "stdout",
     "output_type": "stream",
     "text": [
      "i:  0\n",
      "j:  0\n",
      "i:  0\n",
      "j:  1\n",
      "i:  0\n",
      "j:  2\n",
      "i:  0\n",
      "j:  3\n",
      "i:  0\n",
      "j:  4\n",
      "i:  0\n",
      "j:  5\n",
      "i:  0\n",
      "j:  6\n",
      "i:  0\n",
      "j:  7\n",
      "i:  0\n",
      "j:  8\n",
      "i:  1\n",
      "j:  0\n",
      "i:  1\n",
      "j:  1\n",
      "i:  1\n",
      "j:  2\n",
      "i:  1\n",
      "j:  3\n",
      "i:  1\n",
      "j:  4\n",
      "i:  1\n",
      "j:  5\n",
      "i:  1\n",
      "j:  6\n",
      "i:  1\n",
      "j:  7\n",
      "i:  1\n",
      "j:  8\n",
      "i:  2\n",
      "j:  0\n",
      "i:  2\n",
      "j:  1\n",
      "i:  2\n",
      "j:  2\n",
      "i:  2\n",
      "j:  3\n",
      "i:  2\n",
      "j:  4\n",
      "i:  2\n",
      "j:  5\n",
      "i:  2\n",
      "j:  6\n",
      "i:  2\n",
      "j:  7\n",
      "i:  2\n",
      "j:  8\n",
      "i:  3\n",
      "j:  0\n",
      "i:  3\n",
      "j:  1\n",
      "i:  3\n",
      "j:  2\n",
      "i:  3\n",
      "j:  3\n",
      "i:  3\n",
      "j:  4\n",
      "i:  3\n",
      "j:  5\n",
      "i:  3\n",
      "j:  6\n",
      "i:  3\n",
      "j:  7\n",
      "i:  3\n",
      "j:  8\n",
      "i:  4\n",
      "j:  0\n",
      "i:  4\n",
      "j:  1\n",
      "i:  4\n",
      "j:  2\n",
      "i:  4\n",
      "j:  3\n",
      "i:  4\n",
      "j:  4\n",
      "i:  4\n",
      "j:  5\n",
      "i:  4\n",
      "j:  6\n",
      "i:  4\n",
      "j:  7\n",
      "i:  4\n",
      "j:  8\n",
      "i:  5\n",
      "j:  0\n",
      "i:  5\n",
      "j:  1\n",
      "i:  5\n",
      "j:  2\n",
      "i:  5\n",
      "j:  3\n",
      "i:  5\n",
      "j:  4\n",
      "i:  5\n",
      "j:  5\n",
      "i:  5\n",
      "j:  6\n",
      "i:  5\n",
      "j:  7\n",
      "i:  5\n",
      "j:  8\n",
      "i:  6\n",
      "j:  0\n",
      "i:  6\n",
      "j:  1\n",
      "i:  6\n",
      "j:  2\n",
      "i:  6\n",
      "j:  3\n",
      "i:  6\n",
      "j:  4\n",
      "i:  6\n",
      "j:  5\n",
      "i:  6\n",
      "j:  6\n",
      "i:  6\n",
      "j:  7\n",
      "i:  6\n",
      "j:  8\n",
      "i:  7\n",
      "j:  0\n",
      "i:  7\n",
      "j:  1\n",
      "i:  7\n",
      "j:  2\n",
      "i:  7\n",
      "j:  3\n",
      "i:  7\n",
      "j:  4\n",
      "i:  7\n",
      "j:  5\n",
      "i:  7\n",
      "j:  6\n",
      "i:  7\n",
      "j:  7\n",
      "i:  7\n",
      "j:  8\n",
      "i:  8\n",
      "j:  0\n",
      "i:  8\n",
      "j:  1\n",
      "i:  8\n",
      "j:  2\n",
      "i:  8\n",
      "j:  3\n",
      "i:  8\n",
      "j:  4\n",
      "i:  8\n",
      "j:  5\n",
      "i:  8\n",
      "j:  6\n",
      "i:  8\n",
      "j:  7\n",
      "i:  8\n",
      "j:  8\n",
      "[[0. 1. 0. 1. 0. 0. 0. 0. 0.]\n",
      " [1. 0. 1. 0. 1. 0. 0. 0. 0.]\n",
      " [0. 1. 0. 0. 0. 1. 0. 0. 0.]\n",
      " [1. 0. 0. 0. 1. 0. 1. 0. 0.]\n",
      " [0. 1. 0. 1. 0. 1. 0. 1. 0.]\n",
      " [0. 0. 1. 0. 1. 0. 0. 0. 1.]\n",
      " [0. 0. 0. 1. 0. 0. 0. 1. 0.]\n",
      " [0. 0. 0. 0. 1. 0. 1. 0. 1.]\n",
      " [0. 0. 0. 0. 0. 1. 0. 1. 0.]]\n"
     ]
    }
   ],
   "source": [
    "# Matrix Representation of Graph\n",
    "w = np.zeros([n, n])\n",
    "for i in range(n):\n",
    "    for j in range(n):\n",
    "        temp = G.get_edge_data(i, j, default=0)\n",
    "        print(\"i: \", i)\n",
    "        print(\"j: \", j)\n",
    "        if temp != 0:\n",
    "            w[i, j] = temp[\"weight\"]\n",
    "\n",
    "print(w)"
   ]
  },
  {
   "cell_type": "markdown",
   "id": "96c68053",
   "metadata": {},
   "source": [
    "## Classical (Brute Force) Approach"
   ]
  },
  {
   "cell_type": "code",
   "execution_count": 78,
   "id": "705187a7",
   "metadata": {},
   "outputs": [
    {
     "name": "stdout",
     "output_type": "stream",
     "text": [
      "case = [0, 0, 0, 0, 0, 0, 0, 0, 0] cost = 0.0\n",
      "case = [1, 0, 0, 0, 0, 0, 0, 0, 0] cost = 2.0\n",
      "case = [0, 1, 0, 0, 0, 0, 0, 0, 0] cost = 3.0\n",
      "case = [1, 1, 0, 0, 0, 0, 0, 0, 0] cost = 3.0\n",
      "case = [0, 0, 1, 0, 0, 0, 0, 0, 0] cost = 2.0\n",
      "case = [1, 0, 1, 0, 0, 0, 0, 0, 0] cost = 4.0\n",
      "case = [0, 1, 1, 0, 0, 0, 0, 0, 0] cost = 3.0\n",
      "case = [1, 1, 1, 0, 0, 0, 0, 0, 0] cost = 3.0\n",
      "case = [0, 0, 0, 1, 0, 0, 0, 0, 0] cost = 3.0\n",
      "case = [1, 0, 0, 1, 0, 0, 0, 0, 0] cost = 3.0\n",
      "case = [0, 1, 0, 1, 0, 0, 0, 0, 0] cost = 6.0\n",
      "case = [1, 1, 0, 1, 0, 0, 0, 0, 0] cost = 4.0\n",
      "case = [0, 0, 1, 1, 0, 0, 0, 0, 0] cost = 5.0\n",
      "case = [1, 0, 1, 1, 0, 0, 0, 0, 0] cost = 5.0\n",
      "case = [0, 1, 1, 1, 0, 0, 0, 0, 0] cost = 6.0\n",
      "case = [1, 1, 1, 1, 0, 0, 0, 0, 0] cost = 4.0\n",
      "case = [0, 0, 0, 0, 1, 0, 0, 0, 0] cost = 4.0\n",
      "case = [1, 0, 0, 0, 1, 0, 0, 0, 0] cost = 6.0\n",
      "case = [0, 1, 0, 0, 1, 0, 0, 0, 0] cost = 5.0\n",
      "case = [1, 1, 0, 0, 1, 0, 0, 0, 0] cost = 5.0\n",
      "case = [0, 0, 1, 0, 1, 0, 0, 0, 0] cost = 6.0\n",
      "case = [1, 0, 1, 0, 1, 0, 0, 0, 0] cost = 8.0\n",
      "case = [0, 1, 1, 0, 1, 0, 0, 0, 0] cost = 5.0\n",
      "case = [1, 1, 1, 0, 1, 0, 0, 0, 0] cost = 5.0\n",
      "case = [0, 0, 0, 1, 1, 0, 0, 0, 0] cost = 5.0\n",
      "case = [1, 0, 0, 1, 1, 0, 0, 0, 0] cost = 5.0\n",
      "case = [0, 1, 0, 1, 1, 0, 0, 0, 0] cost = 6.0\n",
      "case = [1, 1, 0, 1, 1, 0, 0, 0, 0] cost = 4.0\n",
      "case = [0, 0, 1, 1, 1, 0, 0, 0, 0] cost = 7.0\n",
      "case = [1, 0, 1, 1, 1, 0, 0, 0, 0] cost = 7.0\n",
      "case = [0, 1, 1, 1, 1, 0, 0, 0, 0] cost = 6.0\n",
      "case = [1, 1, 1, 1, 1, 0, 0, 0, 0] cost = 4.0\n",
      "case = [0, 0, 0, 0, 0, 1, 0, 0, 0] cost = 3.0\n",
      "case = [1, 0, 0, 0, 0, 1, 0, 0, 0] cost = 5.0\n",
      "case = [0, 1, 0, 0, 0, 1, 0, 0, 0] cost = 6.0\n",
      "case = [1, 1, 0, 0, 0, 1, 0, 0, 0] cost = 6.0\n",
      "case = [0, 0, 1, 0, 0, 1, 0, 0, 0] cost = 3.0\n",
      "case = [1, 0, 1, 0, 0, 1, 0, 0, 0] cost = 5.0\n",
      "case = [0, 1, 1, 0, 0, 1, 0, 0, 0] cost = 4.0\n",
      "case = [1, 1, 1, 0, 0, 1, 0, 0, 0] cost = 4.0\n",
      "case = [0, 0, 0, 1, 0, 1, 0, 0, 0] cost = 6.0\n",
      "case = [1, 0, 0, 1, 0, 1, 0, 0, 0] cost = 6.0\n",
      "case = [0, 1, 0, 1, 0, 1, 0, 0, 0] cost = 9.0\n",
      "case = [1, 1, 0, 1, 0, 1, 0, 0, 0] cost = 7.0\n",
      "case = [0, 0, 1, 1, 0, 1, 0, 0, 0] cost = 6.0\n",
      "case = [1, 0, 1, 1, 0, 1, 0, 0, 0] cost = 6.0\n",
      "case = [0, 1, 1, 1, 0, 1, 0, 0, 0] cost = 7.0\n",
      "case = [1, 1, 1, 1, 0, 1, 0, 0, 0] cost = 5.0\n",
      "case = [0, 0, 0, 0, 1, 1, 0, 0, 0] cost = 5.0\n",
      "case = [1, 0, 0, 0, 1, 1, 0, 0, 0] cost = 7.0\n",
      "case = [0, 1, 0, 0, 1, 1, 0, 0, 0] cost = 6.0\n",
      "case = [1, 1, 0, 0, 1, 1, 0, 0, 0] cost = 6.0\n",
      "case = [0, 0, 1, 0, 1, 1, 0, 0, 0] cost = 5.0\n",
      "case = [1, 0, 1, 0, 1, 1, 0, 0, 0] cost = 7.0\n",
      "case = [0, 1, 1, 0, 1, 1, 0, 0, 0] cost = 4.0\n",
      "case = [1, 1, 1, 0, 1, 1, 0, 0, 0] cost = 4.0\n",
      "case = [0, 0, 0, 1, 1, 1, 0, 0, 0] cost = 6.0\n",
      "case = [1, 0, 0, 1, 1, 1, 0, 0, 0] cost = 6.0\n",
      "case = [0, 1, 0, 1, 1, 1, 0, 0, 0] cost = 7.0\n",
      "case = [1, 1, 0, 1, 1, 1, 0, 0, 0] cost = 5.0\n",
      "case = [0, 0, 1, 1, 1, 1, 0, 0, 0] cost = 6.0\n",
      "case = [1, 0, 1, 1, 1, 1, 0, 0, 0] cost = 6.0\n",
      "case = [0, 1, 1, 1, 1, 1, 0, 0, 0] cost = 5.0\n",
      "case = [1, 1, 1, 1, 1, 1, 0, 0, 0] cost = 3.0\n",
      "case = [0, 0, 0, 0, 0, 0, 1, 0, 0] cost = 2.0\n",
      "case = [1, 0, 0, 0, 0, 0, 1, 0, 0] cost = 4.0\n",
      "case = [0, 1, 0, 0, 0, 0, 1, 0, 0] cost = 5.0\n",
      "case = [1, 1, 0, 0, 0, 0, 1, 0, 0] cost = 5.0\n",
      "case = [0, 0, 1, 0, 0, 0, 1, 0, 0] cost = 4.0\n",
      "case = [1, 0, 1, 0, 0, 0, 1, 0, 0] cost = 6.0\n",
      "case = [0, 1, 1, 0, 0, 0, 1, 0, 0] cost = 5.0\n",
      "case = [1, 1, 1, 0, 0, 0, 1, 0, 0] cost = 5.0\n",
      "case = [0, 0, 0, 1, 0, 0, 1, 0, 0] cost = 3.0\n",
      "case = [1, 0, 0, 1, 0, 0, 1, 0, 0] cost = 3.0\n",
      "case = [0, 1, 0, 1, 0, 0, 1, 0, 0] cost = 6.0\n",
      "case = [1, 1, 0, 1, 0, 0, 1, 0, 0] cost = 4.0\n",
      "case = [0, 0, 1, 1, 0, 0, 1, 0, 0] cost = 5.0\n",
      "case = [1, 0, 1, 1, 0, 0, 1, 0, 0] cost = 5.0\n",
      "case = [0, 1, 1, 1, 0, 0, 1, 0, 0] cost = 6.0\n",
      "case = [1, 1, 1, 1, 0, 0, 1, 0, 0] cost = 4.0\n",
      "case = [0, 0, 0, 0, 1, 0, 1, 0, 0] cost = 6.0\n",
      "case = [1, 0, 0, 0, 1, 0, 1, 0, 0] cost = 8.0\n",
      "case = [0, 1, 0, 0, 1, 0, 1, 0, 0] cost = 7.0\n",
      "case = [1, 1, 0, 0, 1, 0, 1, 0, 0] cost = 7.0\n",
      "case = [0, 0, 1, 0, 1, 0, 1, 0, 0] cost = 8.0\n",
      "case = [1, 0, 1, 0, 1, 0, 1, 0, 0] cost = 10.0\n",
      "case = [0, 1, 1, 0, 1, 0, 1, 0, 0] cost = 7.0\n",
      "case = [1, 1, 1, 0, 1, 0, 1, 0, 0] cost = 7.0\n",
      "case = [0, 0, 0, 1, 1, 0, 1, 0, 0] cost = 5.0\n",
      "case = [1, 0, 0, 1, 1, 0, 1, 0, 0] cost = 5.0\n",
      "case = [0, 1, 0, 1, 1, 0, 1, 0, 0] cost = 6.0\n",
      "case = [1, 1, 0, 1, 1, 0, 1, 0, 0] cost = 4.0\n",
      "case = [0, 0, 1, 1, 1, 0, 1, 0, 0] cost = 7.0\n",
      "case = [1, 0, 1, 1, 1, 0, 1, 0, 0] cost = 7.0\n",
      "case = [0, 1, 1, 1, 1, 0, 1, 0, 0] cost = 6.0\n",
      "case = [1, 1, 1, 1, 1, 0, 1, 0, 0] cost = 4.0\n",
      "case = [0, 0, 0, 0, 0, 1, 1, 0, 0] cost = 5.0\n",
      "case = [1, 0, 0, 0, 0, 1, 1, 0, 0] cost = 7.0\n",
      "case = [0, 1, 0, 0, 0, 1, 1, 0, 0] cost = 8.0\n",
      "case = [1, 1, 0, 0, 0, 1, 1, 0, 0] cost = 8.0\n",
      "case = [0, 0, 1, 0, 0, 1, 1, 0, 0] cost = 5.0\n",
      "case = [1, 0, 1, 0, 0, 1, 1, 0, 0] cost = 7.0\n",
      "case = [0, 1, 1, 0, 0, 1, 1, 0, 0] cost = 6.0\n",
      "case = [1, 1, 1, 0, 0, 1, 1, 0, 0] cost = 6.0\n",
      "case = [0, 0, 0, 1, 0, 1, 1, 0, 0] cost = 6.0\n",
      "case = [1, 0, 0, 1, 0, 1, 1, 0, 0] cost = 6.0\n",
      "case = [0, 1, 0, 1, 0, 1, 1, 0, 0] cost = 9.0\n",
      "case = [1, 1, 0, 1, 0, 1, 1, 0, 0] cost = 7.0\n",
      "case = [0, 0, 1, 1, 0, 1, 1, 0, 0] cost = 6.0\n",
      "case = [1, 0, 1, 1, 0, 1, 1, 0, 0] cost = 6.0\n",
      "case = [0, 1, 1, 1, 0, 1, 1, 0, 0] cost = 7.0\n",
      "case = [1, 1, 1, 1, 0, 1, 1, 0, 0] cost = 5.0\n",
      "case = [0, 0, 0, 0, 1, 1, 1, 0, 0] cost = 7.0\n",
      "case = [1, 0, 0, 0, 1, 1, 1, 0, 0] cost = 9.0\n",
      "case = [0, 1, 0, 0, 1, 1, 1, 0, 0] cost = 8.0\n",
      "case = [1, 1, 0, 0, 1, 1, 1, 0, 0] cost = 8.0\n",
      "case = [0, 0, 1, 0, 1, 1, 1, 0, 0] cost = 7.0\n",
      "case = [1, 0, 1, 0, 1, 1, 1, 0, 0] cost = 9.0\n",
      "case = [0, 1, 1, 0, 1, 1, 1, 0, 0] cost = 6.0\n",
      "case = [1, 1, 1, 0, 1, 1, 1, 0, 0] cost = 6.0\n",
      "case = [0, 0, 0, 1, 1, 1, 1, 0, 0] cost = 6.0\n",
      "case = [1, 0, 0, 1, 1, 1, 1, 0, 0] cost = 6.0\n",
      "case = [0, 1, 0, 1, 1, 1, 1, 0, 0] cost = 7.0\n",
      "case = [1, 1, 0, 1, 1, 1, 1, 0, 0] cost = 5.0\n",
      "case = [0, 0, 1, 1, 1, 1, 1, 0, 0] cost = 6.0\n",
      "case = [1, 0, 1, 1, 1, 1, 1, 0, 0] cost = 6.0\n",
      "case = [0, 1, 1, 1, 1, 1, 1, 0, 0] cost = 5.0\n",
      "case = [1, 1, 1, 1, 1, 1, 1, 0, 0] cost = 3.0\n",
      "case = [0, 0, 0, 0, 0, 0, 0, 1, 0] cost = 3.0\n",
      "case = [1, 0, 0, 0, 0, 0, 0, 1, 0] cost = 5.0\n",
      "case = [0, 1, 0, 0, 0, 0, 0, 1, 0] cost = 6.0\n",
      "case = [1, 1, 0, 0, 0, 0, 0, 1, 0] cost = 6.0\n",
      "case = [0, 0, 1, 0, 0, 0, 0, 1, 0] cost = 5.0\n",
      "case = [1, 0, 1, 0, 0, 0, 0, 1, 0] cost = 7.0\n",
      "case = [0, 1, 1, 0, 0, 0, 0, 1, 0] cost = 6.0\n",
      "case = [1, 1, 1, 0, 0, 0, 0, 1, 0] cost = 6.0\n",
      "case = [0, 0, 0, 1, 0, 0, 0, 1, 0] cost = 6.0\n",
      "case = [1, 0, 0, 1, 0, 0, 0, 1, 0] cost = 6.0\n",
      "case = [0, 1, 0, 1, 0, 0, 0, 1, 0] cost = 9.0\n",
      "case = [1, 1, 0, 1, 0, 0, 0, 1, 0] cost = 7.0\n",
      "case = [0, 0, 1, 1, 0, 0, 0, 1, 0] cost = 8.0\n",
      "case = [1, 0, 1, 1, 0, 0, 0, 1, 0] cost = 8.0\n",
      "case = [0, 1, 1, 1, 0, 0, 0, 1, 0] cost = 9.0\n",
      "case = [1, 1, 1, 1, 0, 0, 0, 1, 0] cost = 7.0\n",
      "case = [0, 0, 0, 0, 1, 0, 0, 1, 0] cost = 5.0\n",
      "case = [1, 0, 0, 0, 1, 0, 0, 1, 0] cost = 7.0\n",
      "case = [0, 1, 0, 0, 1, 0, 0, 1, 0] cost = 6.0\n",
      "case = [1, 1, 0, 0, 1, 0, 0, 1, 0] cost = 6.0\n",
      "case = [0, 0, 1, 0, 1, 0, 0, 1, 0] cost = 7.0\n",
      "case = [1, 0, 1, 0, 1, 0, 0, 1, 0] cost = 9.0\n",
      "case = [0, 1, 1, 0, 1, 0, 0, 1, 0] cost = 6.0\n",
      "case = [1, 1, 1, 0, 1, 0, 0, 1, 0] cost = 6.0\n",
      "case = [0, 0, 0, 1, 1, 0, 0, 1, 0] cost = 6.0\n",
      "case = [1, 0, 0, 1, 1, 0, 0, 1, 0] cost = 6.0\n",
      "case = [0, 1, 0, 1, 1, 0, 0, 1, 0] cost = 7.0\n",
      "case = [1, 1, 0, 1, 1, 0, 0, 1, 0] cost = 5.0\n",
      "case = [0, 0, 1, 1, 1, 0, 0, 1, 0] cost = 8.0\n",
      "case = [1, 0, 1, 1, 1, 0, 0, 1, 0] cost = 8.0\n",
      "case = [0, 1, 1, 1, 1, 0, 0, 1, 0] cost = 7.0\n",
      "case = [1, 1, 1, 1, 1, 0, 0, 1, 0] cost = 5.0\n",
      "case = [0, 0, 0, 0, 0, 1, 0, 1, 0] cost = 6.0\n",
      "case = [1, 0, 0, 0, 0, 1, 0, 1, 0] cost = 8.0\n",
      "case = [0, 1, 0, 0, 0, 1, 0, 1, 0] cost = 9.0\n",
      "case = [1, 1, 0, 0, 0, 1, 0, 1, 0] cost = 9.0\n",
      "case = [0, 0, 1, 0, 0, 1, 0, 1, 0] cost = 6.0\n",
      "case = [1, 0, 1, 0, 0, 1, 0, 1, 0] cost = 8.0\n",
      "case = [0, 1, 1, 0, 0, 1, 0, 1, 0] cost = 7.0\n",
      "case = [1, 1, 1, 0, 0, 1, 0, 1, 0] cost = 7.0\n",
      "case = [0, 0, 0, 1, 0, 1, 0, 1, 0] cost = 9.0\n",
      "case = [1, 0, 0, 1, 0, 1, 0, 1, 0] cost = 9.0\n",
      "case = [0, 1, 0, 1, 0, 1, 0, 1, 0] cost = 12.0\n",
      "case = [1, 1, 0, 1, 0, 1, 0, 1, 0] cost = 10.0\n",
      "case = [0, 0, 1, 1, 0, 1, 0, 1, 0] cost = 9.0\n",
      "case = [1, 0, 1, 1, 0, 1, 0, 1, 0] cost = 9.0\n",
      "case = [0, 1, 1, 1, 0, 1, 0, 1, 0] cost = 10.0\n",
      "case = [1, 1, 1, 1, 0, 1, 0, 1, 0] cost = 8.0\n",
      "case = [0, 0, 0, 0, 1, 1, 0, 1, 0] cost = 6.0\n",
      "case = [1, 0, 0, 0, 1, 1, 0, 1, 0] cost = 8.0\n",
      "case = [0, 1, 0, 0, 1, 1, 0, 1, 0] cost = 7.0\n",
      "case = [1, 1, 0, 0, 1, 1, 0, 1, 0] cost = 7.0\n",
      "case = [0, 0, 1, 0, 1, 1, 0, 1, 0] cost = 6.0\n",
      "case = [1, 0, 1, 0, 1, 1, 0, 1, 0] cost = 8.0\n",
      "case = [0, 1, 1, 0, 1, 1, 0, 1, 0] cost = 5.0\n",
      "case = [1, 1, 1, 0, 1, 1, 0, 1, 0] cost = 5.0\n",
      "case = [0, 0, 0, 1, 1, 1, 0, 1, 0] cost = 7.0\n",
      "case = [1, 0, 0, 1, 1, 1, 0, 1, 0] cost = 7.0\n",
      "case = [0, 1, 0, 1, 1, 1, 0, 1, 0] cost = 8.0\n",
      "case = [1, 1, 0, 1, 1, 1, 0, 1, 0] cost = 6.0\n",
      "case = [0, 0, 1, 1, 1, 1, 0, 1, 0] cost = 7.0\n",
      "case = [1, 0, 1, 1, 1, 1, 0, 1, 0] cost = 7.0\n",
      "case = [0, 1, 1, 1, 1, 1, 0, 1, 0] cost = 6.0\n",
      "case = [1, 1, 1, 1, 1, 1, 0, 1, 0] cost = 4.0\n",
      "case = [0, 0, 0, 0, 0, 0, 1, 1, 0] cost = 3.0\n",
      "case = [1, 0, 0, 0, 0, 0, 1, 1, 0] cost = 5.0\n",
      "case = [0, 1, 0, 0, 0, 0, 1, 1, 0] cost = 6.0\n",
      "case = [1, 1, 0, 0, 0, 0, 1, 1, 0] cost = 6.0\n",
      "case = [0, 0, 1, 0, 0, 0, 1, 1, 0] cost = 5.0\n",
      "case = [1, 0, 1, 0, 0, 0, 1, 1, 0] cost = 7.0\n",
      "case = [0, 1, 1, 0, 0, 0, 1, 1, 0] cost = 6.0\n",
      "case = [1, 1, 1, 0, 0, 0, 1, 1, 0] cost = 6.0\n",
      "case = [0, 0, 0, 1, 0, 0, 1, 1, 0] cost = 4.0\n",
      "case = [1, 0, 0, 1, 0, 0, 1, 1, 0] cost = 4.0\n",
      "case = [0, 1, 0, 1, 0, 0, 1, 1, 0] cost = 7.0\n",
      "case = [1, 1, 0, 1, 0, 0, 1, 1, 0] cost = 5.0\n",
      "case = [0, 0, 1, 1, 0, 0, 1, 1, 0] cost = 6.0\n",
      "case = [1, 0, 1, 1, 0, 0, 1, 1, 0] cost = 6.0\n",
      "case = [0, 1, 1, 1, 0, 0, 1, 1, 0] cost = 7.0\n",
      "case = [1, 1, 1, 1, 0, 0, 1, 1, 0] cost = 5.0\n",
      "case = [0, 0, 0, 0, 1, 0, 1, 1, 0] cost = 5.0\n",
      "case = [1, 0, 0, 0, 1, 0, 1, 1, 0] cost = 7.0\n",
      "case = [0, 1, 0, 0, 1, 0, 1, 1, 0] cost = 6.0\n",
      "case = [1, 1, 0, 0, 1, 0, 1, 1, 0] cost = 6.0\n",
      "case = [0, 0, 1, 0, 1, 0, 1, 1, 0] cost = 7.0\n",
      "case = [1, 0, 1, 0, 1, 0, 1, 1, 0] cost = 9.0\n",
      "case = [0, 1, 1, 0, 1, 0, 1, 1, 0] cost = 6.0\n",
      "case = [1, 1, 1, 0, 1, 0, 1, 1, 0] cost = 6.0\n",
      "case = [0, 0, 0, 1, 1, 0, 1, 1, 0] cost = 4.0\n",
      "case = [1, 0, 0, 1, 1, 0, 1, 1, 0] cost = 4.0\n",
      "case = [0, 1, 0, 1, 1, 0, 1, 1, 0] cost = 5.0\n",
      "case = [1, 1, 0, 1, 1, 0, 1, 1, 0] cost = 3.0\n",
      "case = [0, 0, 1, 1, 1, 0, 1, 1, 0] cost = 6.0\n",
      "case = [1, 0, 1, 1, 1, 0, 1, 1, 0] cost = 6.0\n",
      "case = [0, 1, 1, 1, 1, 0, 1, 1, 0] cost = 5.0\n",
      "case = [1, 1, 1, 1, 1, 0, 1, 1, 0] cost = 3.0\n",
      "case = [0, 0, 0, 0, 0, 1, 1, 1, 0] cost = 6.0\n",
      "case = [1, 0, 0, 0, 0, 1, 1, 1, 0] cost = 8.0\n",
      "case = [0, 1, 0, 0, 0, 1, 1, 1, 0] cost = 9.0\n",
      "case = [1, 1, 0, 0, 0, 1, 1, 1, 0] cost = 9.0\n",
      "case = [0, 0, 1, 0, 0, 1, 1, 1, 0] cost = 6.0\n",
      "case = [1, 0, 1, 0, 0, 1, 1, 1, 0] cost = 8.0\n",
      "case = [0, 1, 1, 0, 0, 1, 1, 1, 0] cost = 7.0\n",
      "case = [1, 1, 1, 0, 0, 1, 1, 1, 0] cost = 7.0\n",
      "case = [0, 0, 0, 1, 0, 1, 1, 1, 0] cost = 7.0\n",
      "case = [1, 0, 0, 1, 0, 1, 1, 1, 0] cost = 7.0\n",
      "case = [0, 1, 0, 1, 0, 1, 1, 1, 0] cost = 10.0\n",
      "case = [1, 1, 0, 1, 0, 1, 1, 1, 0] cost = 8.0\n",
      "case = [0, 0, 1, 1, 0, 1, 1, 1, 0] cost = 7.0\n",
      "case = [1, 0, 1, 1, 0, 1, 1, 1, 0] cost = 7.0\n",
      "case = [0, 1, 1, 1, 0, 1, 1, 1, 0] cost = 8.0\n",
      "case = [1, 1, 1, 1, 0, 1, 1, 1, 0] cost = 6.0\n",
      "case = [0, 0, 0, 0, 1, 1, 1, 1, 0] cost = 6.0\n",
      "case = [1, 0, 0, 0, 1, 1, 1, 1, 0] cost = 8.0\n",
      "case = [0, 1, 0, 0, 1, 1, 1, 1, 0] cost = 7.0\n",
      "case = [1, 1, 0, 0, 1, 1, 1, 1, 0] cost = 7.0\n",
      "case = [0, 0, 1, 0, 1, 1, 1, 1, 0] cost = 6.0\n",
      "case = [1, 0, 1, 0, 1, 1, 1, 1, 0] cost = 8.0\n",
      "case = [0, 1, 1, 0, 1, 1, 1, 1, 0] cost = 5.0\n",
      "case = [1, 1, 1, 0, 1, 1, 1, 1, 0] cost = 5.0\n",
      "case = [0, 0, 0, 1, 1, 1, 1, 1, 0] cost = 5.0\n",
      "case = [1, 0, 0, 1, 1, 1, 1, 1, 0] cost = 5.0\n",
      "case = [0, 1, 0, 1, 1, 1, 1, 1, 0] cost = 6.0\n",
      "case = [1, 1, 0, 1, 1, 1, 1, 1, 0] cost = 4.0\n",
      "case = [0, 0, 1, 1, 1, 1, 1, 1, 0] cost = 5.0\n",
      "case = [1, 0, 1, 1, 1, 1, 1, 1, 0] cost = 5.0\n",
      "case = [0, 1, 1, 1, 1, 1, 1, 1, 0] cost = 4.0\n",
      "case = [1, 1, 1, 1, 1, 1, 1, 1, 0] cost = 2.0\n",
      "case = [0, 0, 0, 0, 0, 0, 0, 0, 1] cost = 2.0\n",
      "case = [1, 0, 0, 0, 0, 0, 0, 0, 1] cost = 4.0\n",
      "case = [0, 1, 0, 0, 0, 0, 0, 0, 1] cost = 5.0\n",
      "case = [1, 1, 0, 0, 0, 0, 0, 0, 1] cost = 5.0\n",
      "case = [0, 0, 1, 0, 0, 0, 0, 0, 1] cost = 4.0\n",
      "case = [1, 0, 1, 0, 0, 0, 0, 0, 1] cost = 6.0\n",
      "case = [0, 1, 1, 0, 0, 0, 0, 0, 1] cost = 5.0\n",
      "case = [1, 1, 1, 0, 0, 0, 0, 0, 1] cost = 5.0\n",
      "case = [0, 0, 0, 1, 0, 0, 0, 0, 1] cost = 5.0\n",
      "case = [1, 0, 0, 1, 0, 0, 0, 0, 1] cost = 5.0\n",
      "case = [0, 1, 0, 1, 0, 0, 0, 0, 1] cost = 8.0\n",
      "case = [1, 1, 0, 1, 0, 0, 0, 0, 1] cost = 6.0\n",
      "case = [0, 0, 1, 1, 0, 0, 0, 0, 1] cost = 7.0\n",
      "case = [1, 0, 1, 1, 0, 0, 0, 0, 1] cost = 7.0\n",
      "case = [0, 1, 1, 1, 0, 0, 0, 0, 1] cost = 8.0\n",
      "case = [1, 1, 1, 1, 0, 0, 0, 0, 1] cost = 6.0\n",
      "case = [0, 0, 0, 0, 1, 0, 0, 0, 1] cost = 6.0\n",
      "case = [1, 0, 0, 0, 1, 0, 0, 0, 1] cost = 8.0\n",
      "case = [0, 1, 0, 0, 1, 0, 0, 0, 1] cost = 7.0\n",
      "case = [1, 1, 0, 0, 1, 0, 0, 0, 1] cost = 7.0\n",
      "case = [0, 0, 1, 0, 1, 0, 0, 0, 1] cost = 8.0\n",
      "case = [1, 0, 1, 0, 1, 0, 0, 0, 1] cost = 10.0\n",
      "case = [0, 1, 1, 0, 1, 0, 0, 0, 1] cost = 7.0\n",
      "case = [1, 1, 1, 0, 1, 0, 0, 0, 1] cost = 7.0\n",
      "case = [0, 0, 0, 1, 1, 0, 0, 0, 1] cost = 7.0\n",
      "case = [1, 0, 0, 1, 1, 0, 0, 0, 1] cost = 7.0\n",
      "case = [0, 1, 0, 1, 1, 0, 0, 0, 1] cost = 8.0\n",
      "case = [1, 1, 0, 1, 1, 0, 0, 0, 1] cost = 6.0\n",
      "case = [0, 0, 1, 1, 1, 0, 0, 0, 1] cost = 9.0\n",
      "case = [1, 0, 1, 1, 1, 0, 0, 0, 1] cost = 9.0\n",
      "case = [0, 1, 1, 1, 1, 0, 0, 0, 1] cost = 8.0\n",
      "case = [1, 1, 1, 1, 1, 0, 0, 0, 1] cost = 6.0\n",
      "case = [0, 0, 0, 0, 0, 1, 0, 0, 1] cost = 3.0\n",
      "case = [1, 0, 0, 0, 0, 1, 0, 0, 1] cost = 5.0\n",
      "case = [0, 1, 0, 0, 0, 1, 0, 0, 1] cost = 6.0\n",
      "case = [1, 1, 0, 0, 0, 1, 0, 0, 1] cost = 6.0\n",
      "case = [0, 0, 1, 0, 0, 1, 0, 0, 1] cost = 3.0\n",
      "case = [1, 0, 1, 0, 0, 1, 0, 0, 1] cost = 5.0\n",
      "case = [0, 1, 1, 0, 0, 1, 0, 0, 1] cost = 4.0\n",
      "case = [1, 1, 1, 0, 0, 1, 0, 0, 1] cost = 4.0\n",
      "case = [0, 0, 0, 1, 0, 1, 0, 0, 1] cost = 6.0\n",
      "case = [1, 0, 0, 1, 0, 1, 0, 0, 1] cost = 6.0\n",
      "case = [0, 1, 0, 1, 0, 1, 0, 0, 1] cost = 9.0\n",
      "case = [1, 1, 0, 1, 0, 1, 0, 0, 1] cost = 7.0\n",
      "case = [0, 0, 1, 1, 0, 1, 0, 0, 1] cost = 6.0\n",
      "case = [1, 0, 1, 1, 0, 1, 0, 0, 1] cost = 6.0\n",
      "case = [0, 1, 1, 1, 0, 1, 0, 0, 1] cost = 7.0\n",
      "case = [1, 1, 1, 1, 0, 1, 0, 0, 1] cost = 5.0\n",
      "case = [0, 0, 0, 0, 1, 1, 0, 0, 1] cost = 5.0\n",
      "case = [1, 0, 0, 0, 1, 1, 0, 0, 1] cost = 7.0\n",
      "case = [0, 1, 0, 0, 1, 1, 0, 0, 1] cost = 6.0\n",
      "case = [1, 1, 0, 0, 1, 1, 0, 0, 1] cost = 6.0\n",
      "case = [0, 0, 1, 0, 1, 1, 0, 0, 1] cost = 5.0\n",
      "case = [1, 0, 1, 0, 1, 1, 0, 0, 1] cost = 7.0\n",
      "case = [0, 1, 1, 0, 1, 1, 0, 0, 1] cost = 4.0\n",
      "case = [1, 1, 1, 0, 1, 1, 0, 0, 1] cost = 4.0\n",
      "case = [0, 0, 0, 1, 1, 1, 0, 0, 1] cost = 6.0\n",
      "case = [1, 0, 0, 1, 1, 1, 0, 0, 1] cost = 6.0\n",
      "case = [0, 1, 0, 1, 1, 1, 0, 0, 1] cost = 7.0\n",
      "case = [1, 1, 0, 1, 1, 1, 0, 0, 1] cost = 5.0\n",
      "case = [0, 0, 1, 1, 1, 1, 0, 0, 1] cost = 6.0\n",
      "case = [1, 0, 1, 1, 1, 1, 0, 0, 1] cost = 6.0\n",
      "case = [0, 1, 1, 1, 1, 1, 0, 0, 1] cost = 5.0\n",
      "case = [1, 1, 1, 1, 1, 1, 0, 0, 1] cost = 3.0\n",
      "case = [0, 0, 0, 0, 0, 0, 1, 0, 1] cost = 4.0\n",
      "case = [1, 0, 0, 0, 0, 0, 1, 0, 1] cost = 6.0\n",
      "case = [0, 1, 0, 0, 0, 0, 1, 0, 1] cost = 7.0\n",
      "case = [1, 1, 0, 0, 0, 0, 1, 0, 1] cost = 7.0\n",
      "case = [0, 0, 1, 0, 0, 0, 1, 0, 1] cost = 6.0\n",
      "case = [1, 0, 1, 0, 0, 0, 1, 0, 1] cost = 8.0\n",
      "case = [0, 1, 1, 0, 0, 0, 1, 0, 1] cost = 7.0\n",
      "case = [1, 1, 1, 0, 0, 0, 1, 0, 1] cost = 7.0\n",
      "case = [0, 0, 0, 1, 0, 0, 1, 0, 1] cost = 5.0\n",
      "case = [1, 0, 0, 1, 0, 0, 1, 0, 1] cost = 5.0\n",
      "case = [0, 1, 0, 1, 0, 0, 1, 0, 1] cost = 8.0\n",
      "case = [1, 1, 0, 1, 0, 0, 1, 0, 1] cost = 6.0\n",
      "case = [0, 0, 1, 1, 0, 0, 1, 0, 1] cost = 7.0\n",
      "case = [1, 0, 1, 1, 0, 0, 1, 0, 1] cost = 7.0\n",
      "case = [0, 1, 1, 1, 0, 0, 1, 0, 1] cost = 8.0\n",
      "case = [1, 1, 1, 1, 0, 0, 1, 0, 1] cost = 6.0\n",
      "case = [0, 0, 0, 0, 1, 0, 1, 0, 1] cost = 8.0\n",
      "case = [1, 0, 0, 0, 1, 0, 1, 0, 1] cost = 10.0\n",
      "case = [0, 1, 0, 0, 1, 0, 1, 0, 1] cost = 9.0\n",
      "case = [1, 1, 0, 0, 1, 0, 1, 0, 1] cost = 9.0\n",
      "case = [0, 0, 1, 0, 1, 0, 1, 0, 1] cost = 10.0\n",
      "case = [1, 0, 1, 0, 1, 0, 1, 0, 1] cost = 12.0\n",
      "case = [0, 1, 1, 0, 1, 0, 1, 0, 1] cost = 9.0\n",
      "case = [1, 1, 1, 0, 1, 0, 1, 0, 1] cost = 9.0\n",
      "case = [0, 0, 0, 1, 1, 0, 1, 0, 1] cost = 7.0\n",
      "case = [1, 0, 0, 1, 1, 0, 1, 0, 1] cost = 7.0\n",
      "case = [0, 1, 0, 1, 1, 0, 1, 0, 1] cost = 8.0\n",
      "case = [1, 1, 0, 1, 1, 0, 1, 0, 1] cost = 6.0\n",
      "case = [0, 0, 1, 1, 1, 0, 1, 0, 1] cost = 9.0\n",
      "case = [1, 0, 1, 1, 1, 0, 1, 0, 1] cost = 9.0\n",
      "case = [0, 1, 1, 1, 1, 0, 1, 0, 1] cost = 8.0\n",
      "case = [1, 1, 1, 1, 1, 0, 1, 0, 1] cost = 6.0\n",
      "case = [0, 0, 0, 0, 0, 1, 1, 0, 1] cost = 5.0\n",
      "case = [1, 0, 0, 0, 0, 1, 1, 0, 1] cost = 7.0\n",
      "case = [0, 1, 0, 0, 0, 1, 1, 0, 1] cost = 8.0\n",
      "case = [1, 1, 0, 0, 0, 1, 1, 0, 1] cost = 8.0\n",
      "case = [0, 0, 1, 0, 0, 1, 1, 0, 1] cost = 5.0\n",
      "case = [1, 0, 1, 0, 0, 1, 1, 0, 1] cost = 7.0\n",
      "case = [0, 1, 1, 0, 0, 1, 1, 0, 1] cost = 6.0\n",
      "case = [1, 1, 1, 0, 0, 1, 1, 0, 1] cost = 6.0\n",
      "case = [0, 0, 0, 1, 0, 1, 1, 0, 1] cost = 6.0\n",
      "case = [1, 0, 0, 1, 0, 1, 1, 0, 1] cost = 6.0\n",
      "case = [0, 1, 0, 1, 0, 1, 1, 0, 1] cost = 9.0\n",
      "case = [1, 1, 0, 1, 0, 1, 1, 0, 1] cost = 7.0\n",
      "case = [0, 0, 1, 1, 0, 1, 1, 0, 1] cost = 6.0\n",
      "case = [1, 0, 1, 1, 0, 1, 1, 0, 1] cost = 6.0\n",
      "case = [0, 1, 1, 1, 0, 1, 1, 0, 1] cost = 7.0\n",
      "case = [1, 1, 1, 1, 0, 1, 1, 0, 1] cost = 5.0\n",
      "case = [0, 0, 0, 0, 1, 1, 1, 0, 1] cost = 7.0\n",
      "case = [1, 0, 0, 0, 1, 1, 1, 0, 1] cost = 9.0\n",
      "case = [0, 1, 0, 0, 1, 1, 1, 0, 1] cost = 8.0\n",
      "case = [1, 1, 0, 0, 1, 1, 1, 0, 1] cost = 8.0\n",
      "case = [0, 0, 1, 0, 1, 1, 1, 0, 1] cost = 7.0\n",
      "case = [1, 0, 1, 0, 1, 1, 1, 0, 1] cost = 9.0\n",
      "case = [0, 1, 1, 0, 1, 1, 1, 0, 1] cost = 6.0\n",
      "case = [1, 1, 1, 0, 1, 1, 1, 0, 1] cost = 6.0\n",
      "case = [0, 0, 0, 1, 1, 1, 1, 0, 1] cost = 6.0\n",
      "case = [1, 0, 0, 1, 1, 1, 1, 0, 1] cost = 6.0\n",
      "case = [0, 1, 0, 1, 1, 1, 1, 0, 1] cost = 7.0\n",
      "case = [1, 1, 0, 1, 1, 1, 1, 0, 1] cost = 5.0\n",
      "case = [0, 0, 1, 1, 1, 1, 1, 0, 1] cost = 6.0\n",
      "case = [1, 0, 1, 1, 1, 1, 1, 0, 1] cost = 6.0\n",
      "case = [0, 1, 1, 1, 1, 1, 1, 0, 1] cost = 5.0\n",
      "case = [1, 1, 1, 1, 1, 1, 1, 0, 1] cost = 3.0\n",
      "case = [0, 0, 0, 0, 0, 0, 0, 1, 1] cost = 3.0\n",
      "case = [1, 0, 0, 0, 0, 0, 0, 1, 1] cost = 5.0\n",
      "case = [0, 1, 0, 0, 0, 0, 0, 1, 1] cost = 6.0\n",
      "case = [1, 1, 0, 0, 0, 0, 0, 1, 1] cost = 6.0\n",
      "case = [0, 0, 1, 0, 0, 0, 0, 1, 1] cost = 5.0\n",
      "case = [1, 0, 1, 0, 0, 0, 0, 1, 1] cost = 7.0\n",
      "case = [0, 1, 1, 0, 0, 0, 0, 1, 1] cost = 6.0\n",
      "case = [1, 1, 1, 0, 0, 0, 0, 1, 1] cost = 6.0\n",
      "case = [0, 0, 0, 1, 0, 0, 0, 1, 1] cost = 6.0\n",
      "case = [1, 0, 0, 1, 0, 0, 0, 1, 1] cost = 6.0\n",
      "case = [0, 1, 0, 1, 0, 0, 0, 1, 1] cost = 9.0\n",
      "case = [1, 1, 0, 1, 0, 0, 0, 1, 1] cost = 7.0\n",
      "case = [0, 0, 1, 1, 0, 0, 0, 1, 1] cost = 8.0\n",
      "case = [1, 0, 1, 1, 0, 0, 0, 1, 1] cost = 8.0\n",
      "case = [0, 1, 1, 1, 0, 0, 0, 1, 1] cost = 9.0\n",
      "case = [1, 1, 1, 1, 0, 0, 0, 1, 1] cost = 7.0\n",
      "case = [0, 0, 0, 0, 1, 0, 0, 1, 1] cost = 5.0\n",
      "case = [1, 0, 0, 0, 1, 0, 0, 1, 1] cost = 7.0\n",
      "case = [0, 1, 0, 0, 1, 0, 0, 1, 1] cost = 6.0\n",
      "case = [1, 1, 0, 0, 1, 0, 0, 1, 1] cost = 6.0\n",
      "case = [0, 0, 1, 0, 1, 0, 0, 1, 1] cost = 7.0\n",
      "case = [1, 0, 1, 0, 1, 0, 0, 1, 1] cost = 9.0\n",
      "case = [0, 1, 1, 0, 1, 0, 0, 1, 1] cost = 6.0\n",
      "case = [1, 1, 1, 0, 1, 0, 0, 1, 1] cost = 6.0\n",
      "case = [0, 0, 0, 1, 1, 0, 0, 1, 1] cost = 6.0\n",
      "case = [1, 0, 0, 1, 1, 0, 0, 1, 1] cost = 6.0\n",
      "case = [0, 1, 0, 1, 1, 0, 0, 1, 1] cost = 7.0\n",
      "case = [1, 1, 0, 1, 1, 0, 0, 1, 1] cost = 5.0\n",
      "case = [0, 0, 1, 1, 1, 0, 0, 1, 1] cost = 8.0\n",
      "case = [1, 0, 1, 1, 1, 0, 0, 1, 1] cost = 8.0\n",
      "case = [0, 1, 1, 1, 1, 0, 0, 1, 1] cost = 7.0\n",
      "case = [1, 1, 1, 1, 1, 0, 0, 1, 1] cost = 5.0\n",
      "case = [0, 0, 0, 0, 0, 1, 0, 1, 1] cost = 4.0\n",
      "case = [1, 0, 0, 0, 0, 1, 0, 1, 1] cost = 6.0\n",
      "case = [0, 1, 0, 0, 0, 1, 0, 1, 1] cost = 7.0\n",
      "case = [1, 1, 0, 0, 0, 1, 0, 1, 1] cost = 7.0\n",
      "case = [0, 0, 1, 0, 0, 1, 0, 1, 1] cost = 4.0\n",
      "case = [1, 0, 1, 0, 0, 1, 0, 1, 1] cost = 6.0\n",
      "case = [0, 1, 1, 0, 0, 1, 0, 1, 1] cost = 5.0\n",
      "case = [1, 1, 1, 0, 0, 1, 0, 1, 1] cost = 5.0\n",
      "case = [0, 0, 0, 1, 0, 1, 0, 1, 1] cost = 7.0\n",
      "case = [1, 0, 0, 1, 0, 1, 0, 1, 1] cost = 7.0\n",
      "case = [0, 1, 0, 1, 0, 1, 0, 1, 1] cost = 10.0\n",
      "case = [1, 1, 0, 1, 0, 1, 0, 1, 1] cost = 8.0\n",
      "case = [0, 0, 1, 1, 0, 1, 0, 1, 1] cost = 7.0\n",
      "case = [1, 0, 1, 1, 0, 1, 0, 1, 1] cost = 7.0\n",
      "case = [0, 1, 1, 1, 0, 1, 0, 1, 1] cost = 8.0\n",
      "case = [1, 1, 1, 1, 0, 1, 0, 1, 1] cost = 6.0\n",
      "case = [0, 0, 0, 0, 1, 1, 0, 1, 1] cost = 4.0\n",
      "case = [1, 0, 0, 0, 1, 1, 0, 1, 1] cost = 6.0\n",
      "case = [0, 1, 0, 0, 1, 1, 0, 1, 1] cost = 5.0\n",
      "case = [1, 1, 0, 0, 1, 1, 0, 1, 1] cost = 5.0\n",
      "case = [0, 0, 1, 0, 1, 1, 0, 1, 1] cost = 4.0\n",
      "case = [1, 0, 1, 0, 1, 1, 0, 1, 1] cost = 6.0\n",
      "case = [0, 1, 1, 0, 1, 1, 0, 1, 1] cost = 3.0\n",
      "case = [1, 1, 1, 0, 1, 1, 0, 1, 1] cost = 3.0\n",
      "case = [0, 0, 0, 1, 1, 1, 0, 1, 1] cost = 5.0\n",
      "case = [1, 0, 0, 1, 1, 1, 0, 1, 1] cost = 5.0\n",
      "case = [0, 1, 0, 1, 1, 1, 0, 1, 1] cost = 6.0\n",
      "case = [1, 1, 0, 1, 1, 1, 0, 1, 1] cost = 4.0\n",
      "case = [0, 0, 1, 1, 1, 1, 0, 1, 1] cost = 5.0\n",
      "case = [1, 0, 1, 1, 1, 1, 0, 1, 1] cost = 5.0\n",
      "case = [0, 1, 1, 1, 1, 1, 0, 1, 1] cost = 4.0\n",
      "case = [1, 1, 1, 1, 1, 1, 0, 1, 1] cost = 2.0\n",
      "case = [0, 0, 0, 0, 0, 0, 1, 1, 1] cost = 3.0\n",
      "case = [1, 0, 0, 0, 0, 0, 1, 1, 1] cost = 5.0\n",
      "case = [0, 1, 0, 0, 0, 0, 1, 1, 1] cost = 6.0\n",
      "case = [1, 1, 0, 0, 0, 0, 1, 1, 1] cost = 6.0\n",
      "case = [0, 0, 1, 0, 0, 0, 1, 1, 1] cost = 5.0\n",
      "case = [1, 0, 1, 0, 0, 0, 1, 1, 1] cost = 7.0\n",
      "case = [0, 1, 1, 0, 0, 0, 1, 1, 1] cost = 6.0\n",
      "case = [1, 1, 1, 0, 0, 0, 1, 1, 1] cost = 6.0\n",
      "case = [0, 0, 0, 1, 0, 0, 1, 1, 1] cost = 4.0\n",
      "case = [1, 0, 0, 1, 0, 0, 1, 1, 1] cost = 4.0\n",
      "case = [0, 1, 0, 1, 0, 0, 1, 1, 1] cost = 7.0\n",
      "case = [1, 1, 0, 1, 0, 0, 1, 1, 1] cost = 5.0\n",
      "case = [0, 0, 1, 1, 0, 0, 1, 1, 1] cost = 6.0\n",
      "case = [1, 0, 1, 1, 0, 0, 1, 1, 1] cost = 6.0\n",
      "case = [0, 1, 1, 1, 0, 0, 1, 1, 1] cost = 7.0\n",
      "case = [1, 1, 1, 1, 0, 0, 1, 1, 1] cost = 5.0\n",
      "case = [0, 0, 0, 0, 1, 0, 1, 1, 1] cost = 5.0\n",
      "case = [1, 0, 0, 0, 1, 0, 1, 1, 1] cost = 7.0\n",
      "case = [0, 1, 0, 0, 1, 0, 1, 1, 1] cost = 6.0\n",
      "case = [1, 1, 0, 0, 1, 0, 1, 1, 1] cost = 6.0\n",
      "case = [0, 0, 1, 0, 1, 0, 1, 1, 1] cost = 7.0\n",
      "case = [1, 0, 1, 0, 1, 0, 1, 1, 1] cost = 9.0\n",
      "case = [0, 1, 1, 0, 1, 0, 1, 1, 1] cost = 6.0\n",
      "case = [1, 1, 1, 0, 1, 0, 1, 1, 1] cost = 6.0\n",
      "case = [0, 0, 0, 1, 1, 0, 1, 1, 1] cost = 4.0\n",
      "case = [1, 0, 0, 1, 1, 0, 1, 1, 1] cost = 4.0\n",
      "case = [0, 1, 0, 1, 1, 0, 1, 1, 1] cost = 5.0\n",
      "case = [1, 1, 0, 1, 1, 0, 1, 1, 1] cost = 3.0\n",
      "case = [0, 0, 1, 1, 1, 0, 1, 1, 1] cost = 6.0\n",
      "case = [1, 0, 1, 1, 1, 0, 1, 1, 1] cost = 6.0\n",
      "case = [0, 1, 1, 1, 1, 0, 1, 1, 1] cost = 5.0\n",
      "case = [1, 1, 1, 1, 1, 0, 1, 1, 1] cost = 3.0\n",
      "case = [0, 0, 0, 0, 0, 1, 1, 1, 1] cost = 4.0\n",
      "case = [1, 0, 0, 0, 0, 1, 1, 1, 1] cost = 6.0\n",
      "case = [0, 1, 0, 0, 0, 1, 1, 1, 1] cost = 7.0\n",
      "case = [1, 1, 0, 0, 0, 1, 1, 1, 1] cost = 7.0\n",
      "case = [0, 0, 1, 0, 0, 1, 1, 1, 1] cost = 4.0\n",
      "case = [1, 0, 1, 0, 0, 1, 1, 1, 1] cost = 6.0\n",
      "case = [0, 1, 1, 0, 0, 1, 1, 1, 1] cost = 5.0\n",
      "case = [1, 1, 1, 0, 0, 1, 1, 1, 1] cost = 5.0\n",
      "case = [0, 0, 0, 1, 0, 1, 1, 1, 1] cost = 5.0\n",
      "case = [1, 0, 0, 1, 0, 1, 1, 1, 1] cost = 5.0\n",
      "case = [0, 1, 0, 1, 0, 1, 1, 1, 1] cost = 8.0\n",
      "case = [1, 1, 0, 1, 0, 1, 1, 1, 1] cost = 6.0\n",
      "case = [0, 0, 1, 1, 0, 1, 1, 1, 1] cost = 5.0\n",
      "case = [1, 0, 1, 1, 0, 1, 1, 1, 1] cost = 5.0\n",
      "case = [0, 1, 1, 1, 0, 1, 1, 1, 1] cost = 6.0\n",
      "case = [1, 1, 1, 1, 0, 1, 1, 1, 1] cost = 4.0\n",
      "case = [0, 0, 0, 0, 1, 1, 1, 1, 1] cost = 4.0\n",
      "case = [1, 0, 0, 0, 1, 1, 1, 1, 1] cost = 6.0\n",
      "case = [0, 1, 0, 0, 1, 1, 1, 1, 1] cost = 5.0\n",
      "case = [1, 1, 0, 0, 1, 1, 1, 1, 1] cost = 5.0\n",
      "case = [0, 0, 1, 0, 1, 1, 1, 1, 1] cost = 4.0\n",
      "case = [1, 0, 1, 0, 1, 1, 1, 1, 1] cost = 6.0\n",
      "case = [0, 1, 1, 0, 1, 1, 1, 1, 1] cost = 3.0\n",
      "case = [1, 1, 1, 0, 1, 1, 1, 1, 1] cost = 3.0\n",
      "case = [0, 0, 0, 1, 1, 1, 1, 1, 1] cost = 3.0\n",
      "case = [1, 0, 0, 1, 1, 1, 1, 1, 1] cost = 3.0\n",
      "case = [0, 1, 0, 1, 1, 1, 1, 1, 1] cost = 4.0\n",
      "case = [1, 1, 0, 1, 1, 1, 1, 1, 1] cost = 2.0\n",
      "case = [0, 0, 1, 1, 1, 1, 1, 1, 1] cost = 3.0\n",
      "case = [1, 0, 1, 1, 1, 1, 1, 1, 1] cost = 3.0\n",
      "case = [0, 1, 1, 1, 1, 1, 1, 1, 1] cost = 2.0\n",
      "case = [1, 1, 1, 1, 1, 1, 1, 1, 1] cost = 0.0\n",
      "\n",
      "Best solution = [0, 1, 0, 1, 0, 1, 0, 1, 0] cost = 12.0\n",
      "CPU times: user 61.7 ms, sys: 44.2 ms, total: 106 ms\n",
      "Wall time: 47.5 ms\n"
     ]
    }
   ],
   "source": [
    "%%time\n",
    "\n",
    "best_cost_brute = 0\n",
    "config = []\n",
    "for b in range(2**n):\n",
    "    x = [int(t) for t in reversed(list(bin(b)[2:].zfill(n)))]\n",
    "    cost = 0\n",
    "    for i in range(n):\n",
    "        for j in range(n):\n",
    "            cost = cost + w[i, j] * x[i] * (1 - x[j])\n",
    "    if best_cost_brute < cost:\n",
    "        best_cost_brute = cost\n",
    "        xbest_brute = x\n",
    "    config.append((x, ))\n",
    "    print(\"case = \" + str(x) + \" cost = \" + str(cost))\n",
    "\n",
    "print(\"\\nBest solution = \" + str(xbest_brute) + \" cost = \" + str(best_cost_brute))"
   ]
  },
  {
   "cell_type": "code",
   "execution_count": 79,
   "id": "a8b0e9e3",
   "metadata": {},
   "outputs": [
    {
     "data": {
      "image/png": "[encoded data removed]",
      "text/plain": [
       "<Figure size 432x288 with 1 Axes>"
      ]
     },
     "metadata": {},
     "output_type": "display_data"
    }
   ],
   "source": [
    "colors = [\"r\" if xbest_brute[i] == 0 else \"c\" for i in range(n)]\n",
    "draw_graph(G, colors, pos)"
   ]
  },
  {
   "cell_type": "markdown",
   "id": "3aba491b",
   "metadata": {},
   "source": [
    "### Mapping to the Ising problem\n",
    "\n",
    "Qiskit provides functionality to generate `QuadraticProgram` from the problem specification as well as create the corresponding Ising Hamiltonian."
   ]
  },
  {
   "cell_type": "code",
   "execution_count": 80,
   "id": "792ef2ba",
   "metadata": {},
   "outputs": [
    {
     "name": "stdout",
     "output_type": "stream",
     "text": [
      "Problem name: Max-cut\n",
      "\n",
      "Maximize\n",
      "  -2*x_0*x_1 - 2*x_0*x_3 - 2*x_1*x_2 - 2*x_1*x_4 - 2*x_2*x_5 - 2*x_3*x_4\n",
      "  - 2*x_3*x_6 - 2*x_4*x_5 - 2*x_4*x_7 - 2*x_5*x_8 - 2*x_6*x_7 - 2*x_7*x_8\n",
      "  + 2*x_0 + 3*x_1 + 2*x_2 + 3*x_3 + 4*x_4 + 3*x_5 + 2*x_6 + 3*x_7 + 2*x_8\n",
      "\n",
      "Subject to\n",
      "  No constraints\n",
      "\n",
      "  Binary variables (9)\n",
      "    x_0 x_1 x_2 x_3 x_4 x_5 x_6 x_7 x_8\n",
      "\n"
     ]
    }
   ],
   "source": [
    "max_cut = Maxcut(w)\n",
    "qp = max_cut.to_quadratic_program()\n",
    "print(qp.prettyprint())"
   ]
  },
  {
   "cell_type": "code",
   "execution_count": 81,
   "id": "4c73b317",
   "metadata": {},
   "outputs": [
    {
     "name": "stdout",
     "output_type": "stream",
     "text": [
      "Offset: -6.0\n",
      "Ising Hamiltonian:\n",
      "0.5 * IIIIIIIZZ\n",
      "+ 0.5 * IIIIIIZZI\n",
      "+ 0.5 * IIIIIZIIZ\n",
      "+ 0.5 * IIIIZIIZI\n",
      "+ 0.5 * IIIIZZIII\n",
      "+ 0.5 * IIIZIIZII\n",
      "+ 0.5 * IIIZZIIII\n",
      "+ 0.5 * IIZIIZIII\n",
      "+ 0.5 * IZIIZIIII\n",
      "+ 0.5 * IZZIIIIII\n",
      "+ 0.5 * ZIIZIIIII\n",
      "+ 0.5 * ZZIIIIIII\n"
     ]
    }
   ],
   "source": [
    "qubitOp, offset = qp.to_ising()\n",
    "print(\"Offset:\", offset)\n",
    "print(\"Ising Hamiltonian:\")\n",
    "print(str(qubitOp))"
   ]
  },
  {
   "cell_type": "code",
   "execution_count": 82,
   "id": "bf7d6c7a",
   "metadata": {},
   "outputs": [
    {
     "name": "stdout",
     "output_type": "stream",
     "text": [
      "objective function value: 12.0\n",
      "variable values: x_0=0.0, x_1=1.0, x_2=0.0, x_3=1.0, x_4=0.0, x_5=1.0, x_6=0.0, x_7=1.0, x_8=0.0\n",
      "status: SUCCESS\n"
     ]
    }
   ],
   "source": [
    "# solving Quadratic Program using exact classical eigensolver\n",
    "exact = MinimumEigenOptimizer(NumPyMinimumEigensolver())\n",
    "result = exact.solve(qp)\n",
    "print(result.prettyprint())"
   ]
  },
  {
   "cell_type": "markdown",
   "id": "e514b93d",
   "metadata": {},
   "source": [
    "### Checking that the full Hamiltonian gives the right cost "
   ]
  },
  {
   "cell_type": "code",
   "execution_count": 83,
   "id": "f6eb5803",
   "metadata": {},
   "outputs": [
    {
     "name": "stdout",
     "output_type": "stream",
     "text": [
      "energy: -6.0\n",
      "max-cut objective: -12.0\n",
      "solution: [0 1 0 1 0 1 0 1 0]\n",
      "solution objective: 12.0\n"
     ]
    },
    {
     "data": {
      "image/png": "[encoded data removed]",
      "text/plain": [
       "<Figure size 432x288 with 1 Axes>"
      ]
     },
     "metadata": {},
     "output_type": "display_data"
    }
   ],
   "source": [
    "# Making the Hamiltonian in its full form and getting the lowest eigenvalue and eigenvector\n",
    "ee = NumPyMinimumEigensolver()\n",
    "result = ee.compute_minimum_eigenvalue(qubitOp)\n",
    "\n",
    "x = max_cut.sample_most_likely(result.eigenstate)\n",
    "print(\"energy:\", result.eigenvalue.real)\n",
    "print(\"max-cut objective:\", result.eigenvalue.real + offset)\n",
    "print(\"solution:\", x)\n",
    "print(\"solution objective:\", qp.objective.evaluate(x))\n",
    "\n",
    "colors = [\"r\" if x[i] == 0 else \"c\" for i in range(n)]\n",
    "draw_graph(G, colors, pos)"
   ]
  },
  {
   "cell_type": "markdown",
   "id": "09f8e7e5",
   "metadata": {},
   "source": [
    "### Running it on quantum computer\n",
    "We run the optimization routine using a feedback loop with a quantum computer that uses trial functions built with Y single-qubit rotations, $U_\\mathrm{single}(\\theta) = \\prod_{i=1}^n Y(\\theta_{i})$, and entangler steps $U_\\mathrm{entangler}$."
   ]
  },
  {
   "cell_type": "code",
   "execution_count": 84,
   "id": "b13891c7",
   "metadata": {},
   "outputs": [
    {
     "data": {
      "text/plain": [
       "[AerSimulator('aer_simulator'),\n",
       " AerSimulator('aer_simulator_statevector'),\n",
       " AerSimulator('aer_simulator_density_matrix'),\n",
       " AerSimulator('aer_simulator_stabilizer'),\n",
       " AerSimulator('aer_simulator_matrix_product_state'),\n",
       " AerSimulator('aer_simulator_extended_stabilizer'),\n",
       " AerSimulator('aer_simulator_unitary'),\n",
       " AerSimulator('aer_simulator_superop'),\n",
       " QasmSimulator('qasm_simulator'),\n",
       " StatevectorSimulator('statevector_simulator'),\n",
       " UnitarySimulator('unitary_simulator'),\n",
       " PulseSimulator('pulse_simulator')]"
      ]
     },
     "execution_count": 84,
     "metadata": {},
     "output_type": "execute_result"
    }
   ],
   "source": [
    "Aer.backends()"
   ]
  },
  {
   "cell_type": "code",
   "execution_count": 85,
   "id": "6cef9fbf",
   "metadata": {},
   "outputs": [],
   "source": [
    "algorithm_globals.random_seed = 123\n",
    "seed = 10598\n",
    "backend = Aer.get_backend('qasm_simulator')\n",
    "quantum_instance = QuantumInstance(backend, seed_simulator=seed, seed_transpiler=seed)"
   ]
  },
  {
   "cell_type": "code",
   "execution_count": 89,
   "id": "d963d85b",
   "metadata": {},
   "outputs": [
    {
     "name": "stdout",
     "output_type": "stream",
     "text": [
      "energy: -5.238281249999999\n",
      "time: 15.38385820388794\n",
      "max-cut objective: -11.23828125\n",
      "solution: [1 0 1 0 1 0 1 0 1]\n",
      "solution objective: 12.0\n"
     ]
    },
    {
     "data": {
      "image/png": "[encoded data removed]",
      "text/plain": [
       "<Figure size 432x288 with 1 Axes>"
      ]
     },
     "metadata": {},
     "output_type": "display_data"
    }
   ],
   "source": [
    "# construct VQE\n",
    "spsa = SPSA(maxiter=300)\n",
    "ry = TwoLocal(qubitOp.num_qubits, \"ry\", \"cz\", reps=5, entanglement=\"linear\")\n",
    "vqe = VQE(ry, optimizer=spsa, quantum_instance=quantum_instance)\n",
    "\n",
    "# run VQE\n",
    "result = vqe.compute_minimum_eigenvalue(qubitOp)\n",
    "\n",
    "# print results\n",
    "x = max_cut.sample_most_likely(result.eigenstate)\n",
    "print(\"energy:\", result.eigenvalue.real)\n",
    "print(\"time:\", result.optimizer_time)\n",
    "print(\"max-cut objective:\", result.eigenvalue.real + offset)\n",
    "print(\"solution:\", x)\n",
    "print(\"solution objective:\", qp.objective.evaluate(x))\n",
    "\n",
    "# plot results\n",
    "colors = [\"r\" if x[i] == 0 else \"c\" for i in range(n)]\n",
    "draw_graph(G, colors, pos)"
   ]
  },
  {
   "cell_type": "code",
   "execution_count": 87,
   "id": "a5a869a8",
   "metadata": {},
   "outputs": [
    {
     "name": "stdout",
     "output_type": "stream",
     "text": [
      "objective function value: 12.0\n",
      "variable values: x_0=1.0, x_1=0.0, x_2=1.0, x_3=0.0, x_4=1.0, x_5=0.0, x_6=1.0, x_7=0.0, x_8=1.0\n",
      "status: SUCCESS\n"
     ]
    },
    {
     "data": {
      "image/png": "[encoded data removed]",
      "text/plain": [
       "<Figure size 432x288 with 1 Axes>"
      ]
     },
     "metadata": {},
     "output_type": "display_data"
    }
   ],
   "source": [
    "# create minimum eigen optimizer based on VQE\n",
    "vqe_optimizer = MinimumEigenOptimizer(vqe)\n",
    "\n",
    "# solve quadratic program\n",
    "result = vqe_optimizer.solve(qp)\n",
    "print(result.prettyprint())\n",
    "\n",
    "colors = [\"r\" if result.x[i] == 0 else \"c\" for i in range(n)]\n",
    "draw_graph(G, colors, pos)"
   ]
  },
  {
   "cell_type": "code",
   "execution_count": null,
   "id": "bcbbce40",
   "metadata": {},
   "outputs": [],
   "source": []
  }
 ],
 "metadata": {
  "kernelspec": {
   "display_name": "Python 3 (ipykernel)",
   "language": "python",
   "name": "python3"
  },
  "language_info": {
   "codemirror_mode": {
    "name": "ipython",
    "version": 3
   },
   "file_extension": ".py",
   "mimetype": "text/x-python",
   "name": "python",
   "nbconvert_exporter": "python",
   "pygments_lexer": "ipython3",
   "version": "3.10.4"
  }
 },
 "nbformat": 4,
 "nbformat_minor": 5
}
