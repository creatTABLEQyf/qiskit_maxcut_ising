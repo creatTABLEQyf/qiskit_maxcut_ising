{
 "cells": [
  {
   "cell_type": "code",
   "execution_count": 1,
   "id": "y9zeryV38one",
   "metadata": {
    "colab": {
     "base_uri": "https://localhost:8080/"
    },
    "executionInfo": {
     "elapsed": 59564,
     "status": "ok",
     "timestamp": 1666832522698,
     "user": {
      "displayName": "Youfu Qian",
      "userId": "13514289954724651466"
     },
     "user_tz": 300
    },
    "id": "y9zeryV38one",
    "outputId": "c32092f3-9fc7-4a9d-ef6a-4d5b2e35a213"
   },
   "outputs": [
    {
     "name": "stdout",
     "output_type": "stream",
     "text": [
      "Requirement already satisfied: numpy in /Users/youfuqian/opt/anaconda3/lib/python3.9/site-packages (1.22.4)\n",
      "Requirement already satisfied: pandas in /Users/youfuqian/opt/anaconda3/lib/python3.9/site-packages (1.3.4)\n",
      "Requirement already satisfied: python-dateutil>=2.7.3 in /Users/youfuqian/opt/anaconda3/lib/python3.9/site-packages (from pandas) (2.8.2)\n",
      "Requirement already satisfied: pytz>=2017.3 in /Users/youfuqian/opt/anaconda3/lib/python3.9/site-packages (from pandas) (2021.3)\n",
      "Requirement already satisfied: numpy>=1.17.3 in /Users/youfuqian/opt/anaconda3/lib/python3.9/site-packages (from pandas) (1.22.4)\n",
      "Requirement already satisfied: six>=1.5 in /Users/youfuqian/opt/anaconda3/lib/python3.9/site-packages (from python-dateutil>=2.7.3->pandas) (1.15.0)\n",
      "Requirement already satisfied: matplotlib in /Users/youfuqian/opt/anaconda3/lib/python3.9/site-packages (3.4.3)\n",
      "Requirement already satisfied: pillow>=6.2.0 in /Users/youfuqian/opt/anaconda3/lib/python3.9/site-packages (from matplotlib) (8.4.0)\n",
      "Requirement already satisfied: python-dateutil>=2.7 in /Users/youfuqian/opt/anaconda3/lib/python3.9/site-packages (from matplotlib) (2.8.2)\n",
      "Requirement already satisfied: cycler>=0.10 in /Users/youfuqian/opt/anaconda3/lib/python3.9/site-packages (from matplotlib) (0.10.0)\n",
      "Requirement already satisfied: kiwisolver>=1.0.1 in /Users/youfuqian/opt/anaconda3/lib/python3.9/site-packages (from matplotlib) (1.3.1)\n",
      "Requirement already satisfied: numpy>=1.16 in /Users/youfuqian/opt/anaconda3/lib/python3.9/site-packages (from matplotlib) (1.22.4)\n",
      "Requirement already satisfied: pyparsing>=2.2.1 in /Users/youfuqian/opt/anaconda3/lib/python3.9/site-packages (from matplotlib) (3.0.4)\n",
      "Requirement already satisfied: six in /Users/youfuqian/opt/anaconda3/lib/python3.9/site-packages (from cycler>=0.10->matplotlib) (1.15.0)\n",
      "Requirement already satisfied: XlsxWriter in /Users/youfuqian/opt/anaconda3/lib/python3.9/site-packages (3.0.1)\n",
      "Requirement already satisfied: qiskit in /Users/youfuqian/opt/anaconda3/lib/python3.9/site-packages (0.38.0)\n",
      "Requirement already satisfied: qiskit-ibmq-provider==0.19.2 in /Users/youfuqian/opt/anaconda3/lib/python3.9/site-packages (from qiskit) (0.19.2)\n",
      "Requirement already satisfied: qiskit-aer==0.11.0 in /Users/youfuqian/opt/anaconda3/lib/python3.9/site-packages (from qiskit) (0.11.0)\n",
      "Requirement already satisfied: qiskit-terra==0.21.2 in /Users/youfuqian/opt/anaconda3/lib/python3.9/site-packages (from qiskit) (0.21.2)\n",
      "Requirement already satisfied: scipy>=1.0 in /Users/youfuqian/opt/anaconda3/lib/python3.9/site-packages (from qiskit-aer==0.11.0->qiskit) (1.7.1)\n",
      "Requirement already satisfied: numpy>=1.16.3 in /Users/youfuqian/opt/anaconda3/lib/python3.9/site-packages (from qiskit-aer==0.11.0->qiskit) (1.22.4)\n",
      "Requirement already satisfied: websockets>=10.0 in /Users/youfuqian/opt/anaconda3/lib/python3.9/site-packages (from qiskit-ibmq-provider==0.19.2->qiskit) (10.2)\n",
      "Requirement already satisfied: websocket-client>=1.0.1 in /Users/youfuqian/opt/anaconda3/lib/python3.9/site-packages (from qiskit-ibmq-provider==0.19.2->qiskit) (1.4.1)\n",
      "Requirement already satisfied: urllib3>=1.21.1 in /Users/youfuqian/opt/anaconda3/lib/python3.9/site-packages (from qiskit-ibmq-provider==0.19.2->qiskit) (1.26.7)\n",
      "Requirement already satisfied: requests-ntlm>=1.1.0 in /Users/youfuqian/opt/anaconda3/lib/python3.9/site-packages (from qiskit-ibmq-provider==0.19.2->qiskit) (1.1.0)\n",
      "Requirement already satisfied: python-dateutil>=2.8.0 in /Users/youfuqian/opt/anaconda3/lib/python3.9/site-packages (from qiskit-ibmq-provider==0.19.2->qiskit) (2.8.2)\n",
      "Requirement already satisfied: requests>=2.19 in /Users/youfuqian/opt/anaconda3/lib/python3.9/site-packages (from qiskit-ibmq-provider==0.19.2->qiskit) (2.26.0)\n",
      "Requirement already satisfied: retworkx>=0.11.0 in /Users/youfuqian/opt/anaconda3/lib/python3.9/site-packages (from qiskit-terra==0.21.2->qiskit) (0.11.0)\n",
      "Requirement already satisfied: symengine>=0.9 in /Users/youfuqian/opt/anaconda3/lib/python3.9/site-packages (from qiskit-terra==0.21.2->qiskit) (0.9.0)\n",
      "Requirement already satisfied: psutil>=5 in /Users/youfuqian/opt/anaconda3/lib/python3.9/site-packages (from qiskit-terra==0.21.2->qiskit) (5.8.0)\n",
      "Requirement already satisfied: dill>=0.3 in /Users/youfuqian/opt/anaconda3/lib/python3.9/site-packages (from qiskit-terra==0.21.2->qiskit) (0.3.4)\n",
      "Requirement already satisfied: tweedledum<2.0,>=1.1 in /Users/youfuqian/opt/anaconda3/lib/python3.9/site-packages (from qiskit-terra==0.21.2->qiskit) (1.1.1)\n",
      "Requirement already satisfied: ply>=3.10 in /Users/youfuqian/opt/anaconda3/lib/python3.9/site-packages (from qiskit-terra==0.21.2->qiskit) (3.11)\n",
      "Requirement already satisfied: stevedore>=3.0.0 in /Users/youfuqian/opt/anaconda3/lib/python3.9/site-packages (from qiskit-terra==0.21.2->qiskit) (3.5.0)\n",
      "Requirement already satisfied: sympy>=1.3 in /Users/youfuqian/opt/anaconda3/lib/python3.9/site-packages (from qiskit-terra==0.21.2->qiskit) (1.9)\n",
      "Requirement already satisfied: six>=1.5 in /Users/youfuqian/opt/anaconda3/lib/python3.9/site-packages (from python-dateutil>=2.8.0->qiskit-ibmq-provider==0.19.2->qiskit) (1.15.0)\n",
      "Requirement already satisfied: charset-normalizer~=2.0.0 in /Users/youfuqian/opt/anaconda3/lib/python3.9/site-packages (from requests>=2.19->qiskit-ibmq-provider==0.19.2->qiskit) (2.0.4)\n",
      "Requirement already satisfied: idna<4,>=2.5 in /Users/youfuqian/opt/anaconda3/lib/python3.9/site-packages (from requests>=2.19->qiskit-ibmq-provider==0.19.2->qiskit) (2.10)\n",
      "Requirement already satisfied: certifi>=2017.4.17 in /Users/youfuqian/opt/anaconda3/lib/python3.9/site-packages (from requests>=2.19->qiskit-ibmq-provider==0.19.2->qiskit) (2021.5.30)\n",
      "Requirement already satisfied: cryptography>=1.3 in /Users/youfuqian/opt/anaconda3/lib/python3.9/site-packages (from requests-ntlm>=1.1.0->qiskit-ibmq-provider==0.19.2->qiskit) (3.4.8)\n",
      "Requirement already satisfied: ntlm-auth>=1.0.2 in /Users/youfuqian/opt/anaconda3/lib/python3.9/site-packages (from requests-ntlm>=1.1.0->qiskit-ibmq-provider==0.19.2->qiskit) (1.5.0)\n",
      "Requirement already satisfied: pbr!=2.1.0,>=2.0.0 in /Users/youfuqian/opt/anaconda3/lib/python3.9/site-packages (from stevedore>=3.0.0->qiskit-terra==0.21.2->qiskit) (5.8.1)\n",
      "Requirement already satisfied: mpmath>=0.19 in /Users/youfuqian/opt/anaconda3/lib/python3.9/site-packages (from sympy>=1.3->qiskit-terra==0.21.2->qiskit) (1.2.1)\n",
      "Requirement already satisfied: cffi>=1.12 in /Users/youfuqian/opt/anaconda3/lib/python3.9/site-packages (from cryptography>=1.3->requests-ntlm>=1.1.0->qiskit-ibmq-provider==0.19.2->qiskit) (1.14.6)\n",
      "Requirement already satisfied: pycparser in /Users/youfuqian/opt/anaconda3/lib/python3.9/site-packages (from cffi>=1.12->cryptography>=1.3->requests-ntlm>=1.1.0->qiskit-ibmq-provider==0.19.2->qiskit) (2.20)\n",
      "Requirement already satisfied: qiskit_optimization in /Users/youfuqian/opt/anaconda3/lib/python3.9/site-packages (0.4.0)\n",
      "Requirement already satisfied: docplex>=2.21.207 in /Users/youfuqian/opt/anaconda3/lib/python3.9/site-packages (from qiskit_optimization) (2.22.213)\n",
      "Requirement already satisfied: qiskit-terra>=0.20.0 in /Users/youfuqian/opt/anaconda3/lib/python3.9/site-packages (from qiskit_optimization) (0.21.2)\n",
      "Requirement already satisfied: networkx>=2.2 in /Users/youfuqian/opt/anaconda3/lib/python3.9/site-packages (from qiskit_optimization) (2.6.3)\n",
      "Requirement already satisfied: numpy>=1.17 in /Users/youfuqian/opt/anaconda3/lib/python3.9/site-packages (from qiskit_optimization) (1.22.4)\n",
      "Requirement already satisfied: scipy>=1.4 in /Users/youfuqian/opt/anaconda3/lib/python3.9/site-packages (from qiskit_optimization) (1.7.1)\n",
      "Requirement already satisfied: setuptools>=40.1.0 in /Users/youfuqian/opt/anaconda3/lib/python3.9/site-packages (from qiskit_optimization) (58.0.4)\n",
      "Requirement already satisfied: six in /Users/youfuqian/opt/anaconda3/lib/python3.9/site-packages (from docplex>=2.21.207->qiskit_optimization) (1.15.0)\n",
      "Requirement already satisfied: stevedore>=3.0.0 in /Users/youfuqian/opt/anaconda3/lib/python3.9/site-packages (from qiskit-terra>=0.20.0->qiskit_optimization) (3.5.0)\n",
      "Requirement already satisfied: sympy>=1.3 in /Users/youfuqian/opt/anaconda3/lib/python3.9/site-packages (from qiskit-terra>=0.20.0->qiskit_optimization) (1.9)\n",
      "Requirement already satisfied: dill>=0.3 in /Users/youfuqian/opt/anaconda3/lib/python3.9/site-packages (from qiskit-terra>=0.20.0->qiskit_optimization) (0.3.4)\n",
      "Requirement already satisfied: symengine>=0.9 in /Users/youfuqian/opt/anaconda3/lib/python3.9/site-packages (from qiskit-terra>=0.20.0->qiskit_optimization) (0.9.0)\n",
      "Requirement already satisfied: python-dateutil>=2.8.0 in /Users/youfuqian/opt/anaconda3/lib/python3.9/site-packages (from qiskit-terra>=0.20.0->qiskit_optimization) (2.8.2)\n",
      "Requirement already satisfied: tweedledum<2.0,>=1.1 in /Users/youfuqian/opt/anaconda3/lib/python3.9/site-packages (from qiskit-terra>=0.20.0->qiskit_optimization) (1.1.1)\n",
      "Requirement already satisfied: psutil>=5 in /Users/youfuqian/opt/anaconda3/lib/python3.9/site-packages (from qiskit-terra>=0.20.0->qiskit_optimization) (5.8.0)\n",
      "Requirement already satisfied: ply>=3.10 in /Users/youfuqian/opt/anaconda3/lib/python3.9/site-packages (from qiskit-terra>=0.20.0->qiskit_optimization) (3.11)\n",
      "Requirement already satisfied: retworkx>=0.11.0 in /Users/youfuqian/opt/anaconda3/lib/python3.9/site-packages (from qiskit-terra>=0.20.0->qiskit_optimization) (0.11.0)\n",
      "Requirement already satisfied: pbr!=2.1.0,>=2.0.0 in /Users/youfuqian/opt/anaconda3/lib/python3.9/site-packages (from stevedore>=3.0.0->qiskit-terra>=0.20.0->qiskit_optimization) (5.8.1)\n",
      "Requirement already satisfied: mpmath>=0.19 in /Users/youfuqian/opt/anaconda3/lib/python3.9/site-packages (from sympy>=1.3->qiskit-terra>=0.20.0->qiskit_optimization) (1.2.1)\n"
     ]
    },
    {
     "name": "stdout",
     "output_type": "stream",
     "text": [
      "Requirement already satisfied: networkx in /Users/youfuqian/opt/anaconda3/lib/python3.9/site-packages (2.6.3)\n",
      "Requirement already satisfied: pip in /Users/youfuqian/opt/anaconda3/lib/python3.9/site-packages (22.3.1)\n"
     ]
    }
   ],
   "source": [
    "!pip install numpy\n",
    "!pip install pandas\n",
    "!pip install matplotlib\n",
    "!pip install XlsxWriter\n",
    "!pip install qiskit\n",
    "!pip install qiskit_optimization\n",
    "!pip install networkx\n",
    "!pip install --upgrade pip"
   ]
  },
  {
   "cell_type": "code",
   "execution_count": 2,
   "id": "7a5babbd",
   "metadata": {
    "executionInfo": {
     "elapsed": 3894,
     "status": "ok",
     "timestamp": 1666832534396,
     "user": {
      "displayName": "Youfu Qian",
      "userId": "13514289954724651466"
     },
     "user_tz": 300
    },
    "id": "7a5babbd",
    "outputId": "5ab17164-e076-4c00-eee4-2023a1f98a62"
   },
   "outputs": [],
   "source": [
    "%matplotlib inline\n",
    "\n",
    "# useful packages\n",
    "import matplotlib.pyplot as plt\n",
    "import matplotlib.axes as axes\n",
    "import numpy as np\n",
    "import networkx as nx\n",
    "import time\n",
    "import pandas as pd\n",
    "\n",
    "from qiskit.tools.visualization import plot_histogram\n",
    "from qiskit.circuit.library import TwoLocal\n",
    "from qiskit_optimization.applications import Maxcut, Tsp\n",
    "from qiskit.algorithms import VQE, NumPyMinimumEigensolver\n",
    "from qiskit.algorithms.optimizers import SPSA, COBYLA\n",
    "from qiskit.utils import algorithm_globals, QuantumInstance\n",
    "from qiskit_optimization.algorithms import MinimumEigenOptimizer\n",
    "from qiskit_optimization.problems import QuadraticProgram\n",
    "from qiskit.quantum_info import Statevector\n",
    "from qiskit import Aer, IBMQ\n",
    "from qiskit import QuantumRegister, ClassicalRegister, QuantumCircuit, execute\n",
    "from qiskit.providers.ibmq import least_busy\n",
    "from qiskit.tools.monitor import job_monitor\n",
    "from qiskit.visualization import plot_histogram\n",
    "from qiskit.visualization import plot_state_city, plot_bloch_multivector\n",
    "from qiskit.visualization import plot_state_paulivec, plot_state_hinton\n",
    "from qiskit.visualization import plot_state_qsphere\n",
    "import qiskit"
   ]
  },
  {
   "cell_type": "code",
   "execution_count": 3,
   "id": "a0a2b88e",
   "metadata": {
    "id": "a0a2b88e"
   },
   "outputs": [],
   "source": [
    "# graph generation\n",
    "\n",
    "def draw_graph(G, colors, pos):\n",
    "        default_axes = plt.axes(frameon=True)\n",
    "        nx.draw_networkx(G, node_color=colors, node_size=600, alpha=0.8, ax=default_axes, pos=pos)\n",
    "        edge_labels = nx.get_edge_attributes(G, \"weight\")\n",
    "        nx.draw_networkx_edge_labels(G, pos=pos, edge_labels=edge_labels)\n",
    "\n",
    "def graph_generation(dim):\n",
    "    # Generating the system\n",
    "    N = dim\n",
    "    G1 = nx.grid_2d_graph(N,N)\n",
    "    pos = dict( (n, n) for n in G1.nodes() )\n",
    "    labels = dict( ((i, j), i * N + j) for i, j in G1.nodes() )\n",
    "    # Transform to weighted graph:\n",
    "    n = N**2\n",
    "    V = np.arange(0, N, 1)\n",
    "\n",
    "    E =[]\n",
    "\n",
    "    tuples = []\n",
    "    other_tup = []\n",
    "    point_edge_map = []\n",
    "    other_map = []\n",
    "    relations = []\n",
    "\n",
    "    for edge in G1.edges:\n",
    "        point1 = edge[0]\n",
    "        strpoint1 = str(point1[0]) + str(point1[1])\n",
    "        point2 = edge[1]\n",
    "        strpoint2 = str(point2[0]) + str(point2[1])\n",
    "        if not strpoint1 in point_edge_map:\n",
    "            point_edge_map.append(strpoint1)\n",
    "            tuples.append(edge[0])\n",
    "        if not strpoint2 in other_map:\n",
    "            other_map.append(strpoint2)\n",
    "            other_tup.append(edge[1])\n",
    "        relations.append((strpoint1, strpoint2))\n",
    "\n",
    "    # add periodic boundary conditions\n",
    "    grid = np.zeros((dim, dim)).astype('int64').tolist()\n",
    "    for i in range(dim):\n",
    "        for j in range(dim):\n",
    "            pt = str(i) + str(j)\n",
    "            grid[i][j] = pt\n",
    "    for i in range(len(grid)):\n",
    "        relations.append((grid[0][i], grid[dim-1][i]))\n",
    "        relations.append((grid[i][0], grid[i][dim-1]))        \n",
    "    \n",
    "    \n",
    "    tuples.append(other_tup[len(other_tup) - 1])\n",
    "    point_edge_map.append(other_map[len(other_map) - 1])\n",
    "\n",
    "    dic = {}\n",
    "    for i in range(len(point_edge_map)):\n",
    "        dic[i] = point_edge_map[i]\n",
    "\n",
    "    point_edge_map = np.array(point_edge_map)\n",
    "    relations = np.array(relations)\n",
    "\n",
    "    for relation in relations:\n",
    "        ver1 = relation[0]\n",
    "        ver2 = relation[1]\n",
    "        point1 = np.where(point_edge_map == ver1)[0][0]\n",
    "        point2 = np.where(point_edge_map == ver2)[0][0]\n",
    "        edge = (point1, point2, 1.0)\n",
    "        E.append(edge)\n",
    "\n",
    "    G = nx.Graph()\n",
    "\n",
    "    G.add_nodes_from(V)\n",
    "\n",
    "    G.add_weighted_edges_from(E)\n",
    "\n",
    "    colors = [\"b\" for node in G.nodes()]\n",
    "    pos = dict()\n",
    "    for i in range(n):\n",
    "        pos[i] = tuples[i]\n",
    "\n",
    "\n",
    "    draw_graph(G, colors, pos)\n",
    "    \n",
    "    # Matrix Representation of Graph\n",
    "    w = np.zeros([n, n])\n",
    "    for i in range(n):\n",
    "        for j in range(n):\n",
    "            temp = G.get_edge_data(i, j, default=0)\n",
    "            if temp != 0:\n",
    "                w[i, j] = temp[\"weight\"]\n",
    "                \n",
    "    return G, w, pos"
   ]
  },
  {
   "cell_type": "code",
   "execution_count": 4,
   "id": "446076c9",
   "metadata": {},
   "outputs": [
    {
     "name": "stdout",
     "output_type": "stream",
     "text": [
      "[['00' '10']\n",
      " ['00' '01']\n",
      " ['01' '11']\n",
      " ['01' '02']\n",
      " ['02' '12']\n",
      " ['10' '20']\n",
      " ['10' '11']\n",
      " ['11' '21']\n",
      " ['11' '12']\n",
      " ['12' '22']\n",
      " ['20' '21']\n",
      " ['21' '22']\n",
      " ['00' '20']\n",
      " ['00' '02']\n",
      " ['01' '21']\n",
      " ['10' '12']\n",
      " ['02' '22']\n",
      " ['20' '22']]\n"
     ]
    },
    {
     "data": {
      "text/plain": [
       "(<networkx.classes.graph.Graph at 0x7fb505000520>,\n",
       " array([[0., 1., 1., 1., 0., 0., 1., 0., 0.],\n",
       "        [1., 0., 1., 0., 1., 0., 0., 1., 0.],\n",
       "        [1., 1., 0., 0., 0., 1., 0., 0., 1.],\n",
       "        [1., 0., 0., 0., 1., 1., 1., 0., 0.],\n",
       "        [0., 1., 0., 1., 0., 1., 0., 1., 0.],\n",
       "        [0., 0., 1., 1., 1., 0., 0., 0., 1.],\n",
       "        [1., 0., 0., 1., 0., 0., 0., 1., 1.],\n",
       "        [0., 1., 0., 0., 1., 0., 1., 0., 1.],\n",
       "        [0., 0., 1., 0., 0., 1., 1., 1., 0.]]),\n",
       " {0: (0, 0),\n",
       "  1: (0, 1),\n",
       "  2: (0, 2),\n",
       "  3: (1, 0),\n",
       "  4: (1, 1),\n",
       "  5: (1, 2),\n",
       "  6: (2, 0),\n",
       "  7: (2, 1),\n",
       "  8: (2, 2)})"
      ]
     },
     "execution_count": 4,
     "metadata": {},
     "output_type": "execute_result"
    },
    {
     "data": {
      "image/png": "[encoded data removed]",
      "text/plain": [
       "<Figure size 432x288 with 1 Axes>"
      ]
     },
     "metadata": {},
     "output_type": "display_data"
    }
   ],
   "source": [
    "graph_generation(3)"
   ]
  },
  {
   "cell_type": "code",
   "execution_count": 5,
   "id": "f3e95fd1",
   "metadata": {
    "id": "f3e95fd1"
   },
   "outputs": [],
   "source": [
    "# output probability\n",
    "def output_prob(parameters, size, rep): \n",
    "    '''\n",
    "    parameters from vqe, size should be (number of interations, size**2 * rep)\n",
    "    size: size of the ising model \n",
    "    rep: number of rep in the ansatz\n",
    "    '''\n",
    "    ### assign parameter in the circuit \n",
    "    num_q = size**2\n",
    "    qc = QuantumCircuit(num_q)\n",
    "    for i in range(rep+1):\n",
    "        for j in range(num_q): \n",
    "            qc.ry(parameters[j+i*num_q], j)\n",
    "    \n",
    "    ### measure \n",
    "    final_counts = backend.run(qc, shot=1000).result().get_statevector()\n",
    "    probs = Statevector(final_counts).probabilities()\n",
    "    # coeff is the square root of probs \n",
    "    coeff = np.sqrt(probs)\n",
    "    \n",
    "    # function for writing wave function in binary form\n",
    "    def zero(a,num_q):\n",
    "        string = ''\n",
    "        if len(a) < num_q:\n",
    "            for _ in range(num_q-len(a)):\n",
    "                string += '0'\n",
    "            string += a\n",
    "            return string\n",
    "        # add an else statement\n",
    "        else:\n",
    "            return a\n",
    "\n",
    "    info = {}\n",
    "    # the largest integer that format() can convert to binary is 255.\n",
    "    for i in range(len(coeff)):\n",
    "        info[zero(bin(i)[2:], num_q)] = np.round(coeff[i], 3)\n",
    "    return info"
   ]
  },
  {
   "cell_type": "code",
   "execution_count": 7,
   "id": "7ce6277a",
   "metadata": {
    "id": "7ce6277a",
    "outputId": "b0990895-0937-4634-a5a9-3ced34dee4e2"
   },
   "outputs": [
    {
     "name": "stdout",
     "output_type": "stream",
     "text": [
      "[['00' '10']\n",
      " ['00' '01']\n",
      " ['01' '11']\n",
      " ['01' '02']\n",
      " ['02' '12']\n",
      " ['10' '20']\n",
      " ['10' '11']\n",
      " ['11' '21']\n",
      " ['11' '12']\n",
      " ['12' '22']\n",
      " ['20' '21']\n",
      " ['21' '22']\n",
      " ['00' '20']\n",
      " ['00' '02']\n",
      " ['01' '21']\n",
      " ['10' '12']\n",
      " ['02' '22']\n",
      " ['20' '22']]\n",
      "CPU times: user 5h 16min 33s, sys: 9h 52min 10s, total: 15h 8min 43s\n",
      "Wall time: 3h 14min 12s\n"
     ]
    },
    {
     "data": {
      "image/png": "[encoded data removed]",
      "text/plain": [
       "<Figure size 432x288 with 1 Axes>"
      ]
     },
     "metadata": {},
     "output_type": "display_data"
    }
   ],
   "source": [
    "%%time\n",
    "backend = Aer.get_backend('statevector_simulator')\n",
    "# seed = 250\n",
    "# algorithm_globals.random_seed = seed\n",
    "# quantum_instance = QuantumInstance(backend, seed_simulator=seed, seed_transpiler=seed)\n",
    "\n",
    "iterations = np.linspace(2000, 2000, 1, dtype = 'int64')\n",
    "seeds = np.linspace(201, 10000, 9800, dtype = 'int64')\n",
    "\n",
    "writer = pd.ExcelWriter('3x3 periodic.xlsx', engine = 'xlsxwriter')\n",
    "for maxiter in iterations:\n",
    "    G, w, pos = graph_generation(3)\n",
    "    max_cut = Maxcut(w)\n",
    "    qp = max_cut.to_quadratic_program()\n",
    "    qubitOp, offset = qp.to_ising()\n",
    "    exact = MinimumEigenOptimizer(NumPyMinimumEigensolver())\n",
    "\n",
    "    data = pd.DataFrame()\n",
    "    size = np.full_like(seeds, 9)\n",
    "    optimizER = \"COBYLA(maxiter=\" + str(maxiter) + \")\"\n",
    "    opt = []\n",
    "    first_state = []\n",
    "    first_prob = []\n",
    "    first_energy = []\n",
    "    terminate_it = []\n",
    "    energy = []\n",
    "    time = []\n",
    "    max_cum_objective = []\n",
    "    solution = []\n",
    "    solution_objective = []\n",
    "    \n",
    "    for i, seed in enumerate(seeds):\n",
    "        algorithm_globals.random_seed = seed\n",
    "        quantum_instance = QuantumInstance(backend, seed_simulator=seed, seed_transpiler=seed)\n",
    "        \n",
    "\n",
    "        # construct VQE\n",
    "        cobyla = COBYLA(maxiter = maxiter)\n",
    "        ry = TwoLocal(qubitOp.num_qubits, \"ry\", reps=1, entanglement=\"linear\")\n",
    "        # monitoring VQE\n",
    "        counts, values, Parameters = [], [], []\n",
    "        def store_intermediate_result(eval_count, parameter, mean, std):\n",
    "            counts.append(eval_count)\n",
    "            values.append(mean)\n",
    "            Parameters.append(parameter)\n",
    "        \n",
    "        vqe = VQE(ry, optimizer=cobyla, callback=store_intermediate_result, quantum_instance=quantum_instance)\n",
    "        \n",
    "        # run VQE\n",
    "        result = vqe.compute_minimum_eigenvalue(qubitOp)\n",
    "        x = max_cut.sample_most_likely(result.eigenstate)\n",
    "        \n",
    "        # state after the first iteration\n",
    "        first_it = output_prob(Parameters[0], 3, 1)\n",
    "        f_prob, f_state = max(first_it.values()), max(first_it, key = first_it.get)\n",
    "        \n",
    "        # data collection\n",
    "        first_state.append(f_state)\n",
    "        first_prob.append(f_prob)\n",
    "        first_energy.append(values[0])\n",
    "        terminate_it.append(len(Parameters))\n",
    "        opt.append(optimizER)\n",
    "        energy.append(result.eigenvalue.real)\n",
    "        time.append(result.optimizer_time)\n",
    "        max_cum_objective.append(result.eigenvalue.real + offset)\n",
    "        solution.append(max_cut.sample_most_likely(result.eigenstate))\n",
    "        solution_objective.append(qp.objective.evaluate(x))\n",
    "\n",
    "    # data base\n",
    "    data['seed'] = seeds\n",
    "    data['size'] = size\n",
    "    data['optimizer'] = opt\n",
    "    data['state after 1st iteration'] = first_state\n",
    "    data['probability for the 1st state'] = first_prob\n",
    "    data['energy for the 1st state'] = first_energy\n",
    "    data['terminate iterations'] = terminate_it\n",
    "    data['energy'] = energy\n",
    "    data['time (s)'] = time\n",
    "    data['max cut objective'] = max_cum_objective\n",
    "    data['solution'] = solution\n",
    "    data['solution objective'] = solution_objective\n",
    "    data.to_excel(writer, sheet_name = \"maxiter=\" + str(maxiter))\n",
    "    \n",
    "writer.save()"
   ]
  },
  {
   "cell_type": "code",
   "execution_count": null,
   "id": "23378649",
   "metadata": {
    "id": "23378649"
   },
   "outputs": [],
   "source": [
    "x = [0., 1., 0., 1., 1., 0., 0., 0., 1.]\n",
    "colors = [\"r\" if x[i] == 0 else \"c\" for i in range(len(x))]\n",
    "draw_graph(G, colors, pos)"
   ]
  },
  {
   "cell_type": "code",
   "execution_count": 29,
   "id": "902781f2",
   "metadata": {},
   "outputs": [
    {
     "data": {
      "text/plain": [
       "array([201.])"
      ]
     },
     "execution_count": 29,
     "metadata": {},
     "output_type": "execute_result"
    }
   ],
   "source": [
    "np.linspace(201, 201, 1)"
   ]
  },
  {
   "cell_type": "code",
   "execution_count": null,
   "id": "035a7c1a",
   "metadata": {},
   "outputs": [],
   "source": []
  }
 ],
 "metadata": {
  "colab": {
   "provenance": []
  },
  "kernelspec": {
   "display_name": "Python 3 (ipykernel)",
   "language": "python",
   "name": "python3"
  },
  "language_info": {
   "codemirror_mode": {
    "name": "ipython",
    "version": 3
   },
   "file_extension": ".py",
   "mimetype": "text/x-python",
   "name": "python",
   "nbconvert_exporter": "python",
   "pygments_lexer": "ipython3",
   "version": "3.10.4"
  }
 },
 "nbformat": 4,
 "nbformat_minor": 5
}
