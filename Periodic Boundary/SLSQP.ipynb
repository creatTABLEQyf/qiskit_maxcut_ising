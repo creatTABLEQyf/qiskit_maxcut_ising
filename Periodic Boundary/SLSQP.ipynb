{
 "cells": [
  {
   "cell_type": "code",
   "execution_count": 1,
   "id": "716ab01e",
   "metadata": {},
   "outputs": [],
   "source": [
    "%matplotlib inline\n",
    "\n",
    "# useful packages\n",
    "import matplotlib.pyplot as plt\n",
    "import matplotlib.axes as axes\n",
    "import numpy as np\n",
    "import networkx as nx\n",
    "import time\n",
    "import pandas as pd\n",
    "\n",
    "from qiskit.tools.visualization import plot_histogram\n",
    "from qiskit.circuit.library import TwoLocal\n",
    "from qiskit_optimization.applications import Maxcut, Tsp\n",
    "from qiskit.algorithms import VQE, NumPyMinimumEigensolver\n",
    "from qiskit.algorithms.optimizers import SPSA, COBYLA, SLSQP\n",
    "from qiskit.utils import algorithm_globals, QuantumInstance\n",
    "from qiskit_optimization.algorithms import MinimumEigenOptimizer\n",
    "from qiskit_optimization.problems import QuadraticProgram\n",
    "from qiskit.quantum_info import Statevector\n",
    "from qiskit import Aer, IBMQ\n",
    "from qiskit import QuantumRegister, ClassicalRegister, QuantumCircuit, execute\n",
    "from qiskit.providers.ibmq import least_busy\n",
    "from qiskit.tools.monitor import job_monitor\n",
    "from qiskit.visualization import plot_histogram\n",
    "from qiskit.visualization import plot_state_city, plot_bloch_multivector\n",
    "from qiskit.visualization import plot_state_paulivec, plot_state_hinton\n",
    "from qiskit.visualization import plot_state_qsphere\n",
    "import qiskit"
   ]
  },
  {
   "cell_type": "code",
   "execution_count": 2,
   "id": "48b3f2f9",
   "metadata": {},
   "outputs": [],
   "source": [
    "# graph generation\n",
    "\n",
    "def draw_graph(G, colors, pos):\n",
    "        default_axes = plt.axes(frameon=True)\n",
    "        nx.draw_networkx(G, node_color=colors, node_size=600, alpha=0.8, ax=default_axes, pos=pos)\n",
    "        edge_labels = nx.get_edge_attributes(G, \"weight\")\n",
    "        nx.draw_networkx_edge_labels(G, pos=pos, edge_labels=edge_labels)\n",
    "\n",
    "def graph_generation(dim):\n",
    "    # Generating the system\n",
    "    N = dim\n",
    "    G1 = nx.grid_2d_graph(N,N)\n",
    "    pos = dict( (n, n) for n in G1.nodes() )\n",
    "    labels = dict( ((i, j), i * N + j) for i, j in G1.nodes() )\n",
    "    # Transform to weighted graph:\n",
    "    n = N**2\n",
    "    V = np.arange(0, N, 1)\n",
    "\n",
    "    E =[]\n",
    "\n",
    "    tuples = []\n",
    "    other_tup = []\n",
    "    point_edge_map = []\n",
    "    other_map = []\n",
    "    relations = []\n",
    "\n",
    "    for edge in G1.edges:\n",
    "        point1 = edge[0]\n",
    "        strpoint1 = str(point1[0]) + str(point1[1])\n",
    "        point2 = edge[1]\n",
    "        strpoint2 = str(point2[0]) + str(point2[1])\n",
    "        if not strpoint1 in point_edge_map:\n",
    "            point_edge_map.append(strpoint1)\n",
    "            tuples.append(edge[0])\n",
    "        if not strpoint2 in other_map:\n",
    "            other_map.append(strpoint2)\n",
    "            other_tup.append(edge[1])\n",
    "        relations.append((strpoint1, strpoint2))\n",
    "\n",
    "    # add periodic boundary conditions\n",
    "    grid = np.zeros((dim, dim)).astype('int64').tolist()\n",
    "    for i in range(dim):\n",
    "        for j in range(dim):\n",
    "            pt = str(i) + str(j)\n",
    "            grid[i][j] = pt\n",
    "    for i in range(len(grid)):\n",
    "        relations.append((grid[0][i], grid[dim-1][i]))\n",
    "        relations.append((grid[i][0], grid[i][dim-1]))        \n",
    "    \n",
    "    \n",
    "    tuples.append(other_tup[len(other_tup) - 1])\n",
    "    point_edge_map.append(other_map[len(other_map) - 1])\n",
    "\n",
    "    dic = {}\n",
    "    for i in range(len(point_edge_map)):\n",
    "        dic[i] = point_edge_map[i]\n",
    "\n",
    "    point_edge_map = np.array(point_edge_map)\n",
    "    relations = np.array(relations)\n",
    "\n",
    "    for relation in relations:\n",
    "        ver1 = relation[0]\n",
    "        ver2 = relation[1]\n",
    "        point1 = np.where(point_edge_map == ver1)[0][0]\n",
    "        point2 = np.where(point_edge_map == ver2)[0][0]\n",
    "        edge = (point1, point2, 1.0)\n",
    "        E.append(edge)\n",
    "\n",
    "    G = nx.Graph()\n",
    "\n",
    "    G.add_nodes_from(V)\n",
    "\n",
    "    G.add_weighted_edges_from(E)\n",
    "\n",
    "    colors = [\"b\" for node in G.nodes()]\n",
    "    pos = dict()\n",
    "    for i in range(n):\n",
    "        pos[i] = tuples[i]\n",
    "\n",
    "\n",
    "    draw_graph(G, colors, pos)\n",
    "    \n",
    "    # Matrix Representation of Graph\n",
    "    w = np.zeros([n, n])\n",
    "    for i in range(n):\n",
    "        for j in range(n):\n",
    "            temp = G.get_edge_data(i, j, default=0)\n",
    "            if temp != 0:\n",
    "                w[i, j] = temp[\"weight\"]\n",
    "                \n",
    "    return G, w, pos"
   ]
  },
  {
   "cell_type": "code",
   "execution_count": 3,
   "id": "7ddcc11e",
   "metadata": {},
   "outputs": [
    {
     "data": {
      "image/png": "[encoded data removed]",
      "text/plain": [
       "<Figure size 640x480 with 1 Axes>"
      ]
     },
     "metadata": {},
     "output_type": "display_data"
    }
   ],
   "source": [
    "G, w, pos = graph_generation(3)"
   ]
  },
  {
   "cell_type": "code",
   "execution_count": 4,
   "id": "f4a53825",
   "metadata": {},
   "outputs": [
    {
     "data": {
      "text/plain": [
       "array([[0., 1., 1., 1., 0., 0., 1., 0., 0.],\n",
       "       [1., 0., 1., 0., 1., 0., 0., 1., 0.],\n",
       "       [1., 1., 0., 0., 0., 1., 0., 0., 1.],\n",
       "       [1., 0., 0., 0., 1., 1., 1., 0., 0.],\n",
       "       [0., 1., 0., 1., 0., 1., 0., 1., 0.],\n",
       "       [0., 0., 1., 1., 1., 0., 0., 0., 1.],\n",
       "       [1., 0., 0., 1., 0., 0., 0., 1., 1.],\n",
       "       [0., 1., 0., 0., 1., 0., 1., 0., 1.],\n",
       "       [0., 0., 1., 0., 0., 1., 1., 1., 0.]])"
      ]
     },
     "execution_count": 4,
     "metadata": {},
     "output_type": "execute_result"
    }
   ],
   "source": [
    "w"
   ]
  },
  {
   "cell_type": "code",
   "execution_count": 5,
   "id": "d2a91bb1",
   "metadata": {},
   "outputs": [],
   "source": [
    "# output probability\n",
    "def output_prob(parameters, size, rep): \n",
    "    '''\n",
    "    parameters from vqe, size should be (number of interations, size**2 * rep)\n",
    "    size: size of the ising model \n",
    "    rep: number of rep in the ansatz\n",
    "    '''\n",
    "    ### assign parameter in the circuit \n",
    "    num_q = size**2\n",
    "    qc = QuantumCircuit(num_q)\n",
    "    for i in range(rep+1):\n",
    "        for j in range(num_q): \n",
    "            qc.ry(parameters[j+i*num_q], j)\n",
    "    \n",
    "    ### measure \n",
    "    final_counts = backend.run(qc, shot=1000).result().get_statevector()\n",
    "    probs = Statevector(final_counts).probabilities()\n",
    "    # coeff is the square root of probs \n",
    "    coeff = np.sqrt(probs)\n",
    "    \n",
    "    # function for writing wave function in binary form\n",
    "    def zero(a,num_q):\n",
    "        string = ''\n",
    "        if len(a) < num_q:\n",
    "            for _ in range(num_q-len(a)):\n",
    "                string += '0'\n",
    "            string += a\n",
    "            return string\n",
    "        # add an else statement\n",
    "        else:\n",
    "            return a\n",
    "\n",
    "    info = {}\n",
    "    # the largest integer that format() can convert to binary is 255.\n",
    "    for i in range(len(coeff)):\n",
    "        info[zero(bin(i)[2:], num_q)] = np.round(coeff[i], 3)\n",
    "    return info"
   ]
  },
  {
   "cell_type": "code",
   "execution_count": 5,
   "id": "52ccd583",
   "metadata": {},
   "outputs": [
    {
     "name": "stdout",
     "output_type": "stream",
     "text": [
      "CPU times: user 5h 19min 5s, sys: 9h 59min 18s, total: 15h 18min 23s\n",
      "Wall time: 3h 8min 55s\n"
     ]
    },
    {
     "data": {
      "image/png": "[encoded data removed]",
      "text/plain": [
       "<Figure size 432x288 with 1 Axes>"
      ]
     },
     "metadata": {},
     "output_type": "display_data"
    }
   ],
   "source": [
    "%%time\n",
    "backend = Aer.get_backend('statevector_simulator')\n",
    "# seed = 250\n",
    "# algorithm_globals.random_seed = seed\n",
    "# quantum_instance = QuantumInstance(backend, seed_simulator=seed, seed_transpiler=seed)\n",
    "\n",
    "iterations = np.linspace(2000, 2000, 1, dtype = 'int64')\n",
    "seeds = np.linspace(201, 10000, 9800, dtype = 'int64')\n",
    "\n",
    "writer = pd.ExcelWriter('3x3 periodic slsqp.xlsx', engine = 'xlsxwriter')\n",
    "for maxiter in iterations:\n",
    "    G, w, pos = graph_generation(3)\n",
    "    max_cut = Maxcut(w)\n",
    "    qp = max_cut.to_quadratic_program()\n",
    "    qubitOp, offset = qp.to_ising()\n",
    "    exact = MinimumEigenOptimizer(NumPyMinimumEigensolver())\n",
    "\n",
    "    data = pd.DataFrame()\n",
    "    size = np.full_like(seeds, 9)\n",
    "    optimizER = \"SLSQP(maxiter=\" + str(maxiter) + \")\"\n",
    "    opt = []\n",
    "    first_state = []\n",
    "    first_prob = []\n",
    "    first_energy = []\n",
    "    terminate_it = []\n",
    "    energy = []\n",
    "    time = []\n",
    "    max_cum_objective = []\n",
    "    solution = []\n",
    "    solution_objective = []\n",
    "    \n",
    "    for i, seed in enumerate(seeds):\n",
    "        algorithm_globals.random_seed = seed\n",
    "        quantum_instance = QuantumInstance(backend, seed_simulator=seed, seed_transpiler=seed)\n",
    "        \n",
    "\n",
    "        # construct VQE\n",
    "        slsqp = COBYLA(maxiter = maxiter)\n",
    "        ry = TwoLocal(qubitOp.num_qubits, \"ry\", reps=1, entanglement=\"linear\")\n",
    "        # monitoring VQE\n",
    "        counts, values, Parameters = [], [], []\n",
    "        def store_intermediate_result(eval_count, parameter, mean, std):\n",
    "            counts.append(eval_count)\n",
    "            values.append(mean)\n",
    "            Parameters.append(parameter)\n",
    "        \n",
    "        vqe = VQE(ry, optimizer=slsqp, callback=store_intermediate_result, quantum_instance=quantum_instance)\n",
    "        \n",
    "        # run VQE\n",
    "        result = vqe.compute_minimum_eigenvalue(qubitOp)\n",
    "        x = max_cut.sample_most_likely(result.eigenstate)\n",
    "        \n",
    "        # state after the first iteration\n",
    "        first_it = output_prob(Parameters[0], 3, 1)\n",
    "        f_prob, f_state = max(first_it.values()), max(first_it, key = first_it.get)\n",
    "        \n",
    "        # data collection\n",
    "        first_state.append(f_state)\n",
    "        first_prob.append(f_prob)\n",
    "        first_energy.append(values[0])\n",
    "        terminate_it.append(len(Parameters))\n",
    "        opt.append(optimizER)\n",
    "        energy.append(result.eigenvalue.real)\n",
    "        time.append(result.optimizer_time)\n",
    "        max_cum_objective.append(result.eigenvalue.real + offset)\n",
    "        solution.append(max_cut.sample_most_likely(result.eigenstate))\n",
    "        solution_objective.append(qp.objective.evaluate(x))\n",
    "\n",
    "    # data base\n",
    "    data['seed'] = seeds\n",
    "    data['size'] = size\n",
    "    data['optimizer'] = opt\n",
    "    data['state after 1st iteration'] = first_state\n",
    "    data['probability for the 1st state'] = first_prob\n",
    "    data['energy for the 1st state'] = first_energy\n",
    "    data['terminate iterations'] = terminate_it\n",
    "    data['energy'] = energy\n",
    "    data['time (s)'] = time\n",
    "    data['max cut objective'] = max_cum_objective\n",
    "    data['solution'] = solution\n",
    "    data['solution objective'] = solution_objective\n",
    "    data.to_excel(writer, sheet_name = \"maxiter=\" + str(maxiter))\n",
    "    \n",
    "writer.save()"
   ]
  },
  {
   "cell_type": "code",
   "execution_count": 11,
   "id": "26cf0750",
   "metadata": {},
   "outputs": [
    {
     "data": {
      "text/plain": [
       "array([[0, 0, 1, 0, 0, 0, 1, 0, 0],\n",
       "       [0, 0, 0, 0, 0, 0, 0, 1, 0],\n",
       "       [1, 0, 0, 0, 0, 0, 0, 0, 1],\n",
       "       [0, 0, 0, 0, 0, 1, 0, 0, 0],\n",
       "       [0, 0, 0, 0, 0, 0, 0, 0, 0],\n",
       "       [0, 0, 0, 1, 0, 0, 0, 0, 0],\n",
       "       [1, 0, 0, 0, 0, 0, 0, 0, 1],\n",
       "       [0, 1, 0, 0, 0, 0, 0, 0, 0],\n",
       "       [0, 0, 1, 0, 0, 0, 1, 0, 0]], dtype=int64)"
      ]
     },
     "execution_count": 11,
     "metadata": {},
     "output_type": "execute_result"
    }
   ],
   "source": [
    "w1 = np.array([[0., 1., 1., 1., 0., 0., 1., 0., 0.],\n",
    "       [1., 0., 1., 0., 1., 0., 0., 1., 0.],\n",
    "       [1., 1., 0., 0., 0., 1., 0., 0., 1.],\n",
    "       [1., 0., 0., 0., 1., 1., 1., 0., 0.],\n",
    "       [0., 1., 0., 1., 0., 1., 0., 1., 0.],\n",
    "       [0., 0., 1., 1., 1., 0., 0., 0., 1.],\n",
    "       [1., 0., 0., 1., 0., 0., 0., 1., 1.],\n",
    "       [0., 1., 0., 0., 1., 0., 1., 0., 1.],\n",
    "       [0., 0., 1., 0., 0., 1., 1., 1., 0.]]).astype('int64')\n",
    "w = np.array([[0., 1., 0., 1., 0., 0., 0., 0., 0.],\n",
    "       [1., 0., 1., 0., 1., 0., 0., 0., 0.],\n",
    "       [0., 1., 0., 0., 0., 1., 0., 0., 0.],\n",
    "       [1., 0., 0., 0., 1., 0., 1., 0., 0.],\n",
    "       [0., 1., 0., 1., 0., 1., 0., 1., 0.],\n",
    "       [0., 0., 1., 0., 1., 0., 0., 0., 1.],\n",
    "       [0., 0., 0., 1., 0., 0., 0., 1., 0.],\n",
    "       [0., 0., 0., 0., 1., 0., 1., 0., 1.],\n",
    "       [0., 0., 0., 0., 0., 1., 0., 1., 0.]]).astype('int64')\n",
    "w1-w"
   ]
  },
  {
   "cell_type": "code",
   "execution_count": 12,
   "id": "d5c87556",
   "metadata": {},
   "outputs": [],
   "source": [
    "import numpy as np\n",
    "\n",
    "def bmatrix(a):\n",
    "    \"\"\"Returns a LaTeX bmatrix\n",
    "\n",
    "    :a: numpy array\n",
    "    :returns: LaTeX bmatrix as a string\n",
    "    \"\"\"\n",
    "    if len(a.shape) > 2:\n",
    "        raise ValueError('bmatrix can at most display two dimensions')\n",
    "    lines = str(a).replace('[', '').replace(']', '').splitlines()\n",
    "    rv = [r'\\begin{bmatrix}']\n",
    "    rv += ['  ' + ' & '.join(l.split()) + r'\\\\' for l in lines]\n",
    "    rv +=  [r'\\end{bmatrix}']\n",
    "    return '\\n'.join(rv)"
   ]
  },
  {
   "cell_type": "code",
   "execution_count": 13,
   "id": "c4337314",
   "metadata": {},
   "outputs": [
    {
     "name": "stdout",
     "output_type": "stream",
     "text": [
      "\\begin{bmatrix}\n",
      "  0 & 1 & 1 & 1 & 0 & 0 & 1 & 0 & 0\\\\\n",
      "  1 & 0 & 1 & 0 & 1 & 0 & 0 & 1 & 0\\\\\n",
      "  1 & 1 & 0 & 0 & 0 & 1 & 0 & 0 & 1\\\\\n",
      "  1 & 0 & 0 & 0 & 1 & 1 & 1 & 0 & 0\\\\\n",
      "  0 & 1 & 0 & 1 & 0 & 1 & 0 & 1 & 0\\\\\n",
      "  0 & 0 & 1 & 1 & 1 & 0 & 0 & 0 & 1\\\\\n",
      "  1 & 0 & 0 & 1 & 0 & 0 & 0 & 1 & 1\\\\\n",
      "  0 & 1 & 0 & 0 & 1 & 0 & 1 & 0 & 1\\\\\n",
      "  0 & 0 & 1 & 0 & 0 & 1 & 1 & 1 & 0\\\\\n",
      "\\end{bmatrix}\n"
     ]
    }
   ],
   "source": [
    "print(bmatrix(w1))"
   ]
  },
  {
   "cell_type": "code",
   "execution_count": 14,
   "id": "81829cb2",
   "metadata": {},
   "outputs": [
    {
     "name": "stdout",
     "output_type": "stream",
     "text": [
      "\\begin{bmatrix}\n",
      "  0 & 1 & 0 & 1 & 0 & 0 & 0 & 0 & 0\\\\\n",
      "  1 & 0 & 1 & 0 & 1 & 0 & 0 & 0 & 0\\\\\n",
      "  0 & 1 & 0 & 0 & 0 & 1 & 0 & 0 & 0\\\\\n",
      "  1 & 0 & 0 & 0 & 1 & 0 & 1 & 0 & 0\\\\\n",
      "  0 & 1 & 0 & 1 & 0 & 1 & 0 & 1 & 0\\\\\n",
      "  0 & 0 & 1 & 0 & 1 & 0 & 0 & 0 & 1\\\\\n",
      "  0 & 0 & 0 & 1 & 0 & 0 & 0 & 1 & 0\\\\\n",
      "  0 & 0 & 0 & 0 & 1 & 0 & 1 & 0 & 1\\\\\n",
      "  0 & 0 & 0 & 0 & 0 & 1 & 0 & 1 & 0\\\\\n",
      "\\end{bmatrix}\n"
     ]
    }
   ],
   "source": [
    "print(bmatrix(w))"
   ]
  },
  {
   "cell_type": "code",
   "execution_count": null,
   "id": "dd6ab213",
   "metadata": {},
   "outputs": [],
   "source": []
  }
 ],
 "metadata": {
  "kernelspec": {
   "display_name": "Python 3 (ipykernel)",
   "language": "python",
   "name": "python3"
  },
  "language_info": {
   "codemirror_mode": {
    "name": "ipython",
    "version": 3
   },
   "file_extension": ".py",
   "mimetype": "text/x-python",
   "name": "python",
   "nbconvert_exporter": "python",
   "pygments_lexer": "ipython3",
   "version": "3.10.6"
  }
 },
 "nbformat": 4,
 "nbformat_minor": 5
}
