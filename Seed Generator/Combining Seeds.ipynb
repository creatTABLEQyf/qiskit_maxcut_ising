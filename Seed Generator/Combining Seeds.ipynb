{
 "cells": [
  {
   "cell_type": "code",
   "execution_count": 2,
   "id": "a501b193",
   "metadata": {},
   "outputs": [
    {
     "name": "stdout",
     "output_type": "stream",
     "text": [
      "Requirement already satisfied: XlsxWriter in /Users/youfuqian/opt/anaconda3/lib/python3.9/site-packages (3.0.1)\r\n"
     ]
    }
   ],
   "source": [
    "import numpy as np\n",
    "import pandas as pd"
   ]
  },
  {
   "cell_type": "code",
   "execution_count": 7,
   "id": "5dfd58dc",
   "metadata": {},
   "outputs": [
    {
     "name": "stdout",
     "output_type": "stream",
     "text": [
      "     Unnamed: 0  seed  size            optimizer  state after 1st iteration  \\\n",
      "0             0   201     9  COBYLA(maxiter=100)                 10111000.0   \n",
      "1             1   202     9  COBYLA(maxiter=100)                    11011.0   \n",
      "2             2   203     9  COBYLA(maxiter=100)                    10101.0   \n",
      "3             3   204     9  COBYLA(maxiter=100)                 11011111.0   \n",
      "4             4   205     9  COBYLA(maxiter=100)                    11010.0   \n",
      "..          ...   ...   ...                  ...                        ...   \n",
      "795         795   996     9  COBYLA(maxiter=100)                 11111011.0   \n",
      "796         796   997     9  COBYLA(maxiter=100)                 11001110.0   \n",
      "797         797   998     9  COBYLA(maxiter=100)                 10101110.0   \n",
      "798         798   999     9  COBYLA(maxiter=100)                 10011110.0   \n",
      "799         799  1000     9  COBYLA(maxiter=100)                   100100.0   \n",
      "\n",
      "     probability for the 1st state  energy for the 1st state  \\\n",
      "0                            0.377                 -0.004128   \n",
      "1                            0.331                  0.536688   \n",
      "2                            0.029                 -2.081490   \n",
      "3                            0.326                  2.294233   \n",
      "4                            0.183                 -0.450479   \n",
      "..                             ...                       ...   \n",
      "795                          0.513                  1.203707   \n",
      "796                          0.150                 -0.762295   \n",
      "797                          0.493                 -2.196518   \n",
      "798                          0.364                 -0.324062   \n",
      "799                          0.147                  0.763707   \n",
      "\n",
      "     terminate iterations    energy  time (s)  max cut objective  \\\n",
      "0                     100 -5.985168  0.698998         -11.985168   \n",
      "1                     100 -5.987075  1.060939         -11.987075   \n",
      "2                     100 -5.993847  0.784508         -11.993847   \n",
      "3                     100 -5.953818  0.862451         -11.953818   \n",
      "4                     100 -4.631871  0.875125         -10.631871   \n",
      "..                    ...       ...       ...                ...   \n",
      "795                   100 -3.134166  0.634813          -9.134166   \n",
      "796                   100 -2.992498  0.779450          -8.992498   \n",
      "797                   100 -5.975114  0.602072         -11.975114   \n",
      "798                   100 -5.988358  0.577274         -11.988358   \n",
      "799                   100 -5.978239  0.658575         -11.978239   \n",
      "\n",
      "                         solution  solution objective  \n",
      "0    [0. 1. 0. 1. 0. 1. 0. 1. 0.]                  12  \n",
      "1    [1. 0. 1. 0. 1. 0. 1. 0. 1.]                  12  \n",
      "2    [1. 0. 1. 0. 1. 0. 1. 0. 1.]                  12  \n",
      "3    [1. 0. 1. 0. 1. 0. 1. 0. 1.]                  12  \n",
      "4    [0. 1. 0. 1. 0. 1. 0. 1. 1.]                  10  \n",
      "..                            ...                 ...  \n",
      "795  [0. 1. 0. 0. 0. 1. 1. 1. 0.]                   9  \n",
      "796  [0. 1. 1. 1. 0. 0. 0. 1. 1.]                   9  \n",
      "797  [0. 1. 0. 1. 0. 1. 0. 1. 0.]                  12  \n",
      "798  [0. 1. 0. 1. 0. 1. 0. 1. 0.]                  12  \n",
      "799  [1. 0. 1. 0. 1. 0. 1. 0. 1.]                  12  \n",
      "\n",
      "[800 rows x 13 columns]\n"
     ]
    }
   ],
   "source": [
    "writer1 = pd.ExcelWriter(\"Static Seed 200-4000 Intel x86.xlsx\", engine = 'xlsxwriter')\n",
    "data1 = pd.DataFrame()\n",
    "\n",
    "seeds = []\n",
    "size = []\n",
    "opt = []\n",
    "first_state = []\n",
    "first_prob = []\n",
    "first_energy = []\n",
    "terminate_it = []\n",
    "energy = []\n",
    "time = []\n",
    "max_cum_objective = []\n",
    "solution = []\n",
    "solution_objective = []\n",
    "\n",
    "for i in range(1, 5):\n",
    "    file = pd.read_excel(\"static seeds \" + str(i) + '.xlsx')\n",
    "    seeds += file['seed'].tolist()\n",
    "    size += file['size'].tolist()\n",
    "    opt += file['optimizer'].tolist()\n",
    "    first_state += file['state after 1st iteration'].tolist()\n",
    "    first_prob += file['probability for the 1st state'].tolist()\n",
    "    first_energy += file['energy for the 1st state'].tolist()\n",
    "    terminate_it += file['terminate iterations'].tolist()\n",
    "    energy += file['energy'].tolist()\n",
    "    time += file['time (s)'].tolist()\n",
    "    max_cum_objective += file['max cut objective'].tolist()\n",
    "    solution += file['solution'].tolist()\n",
    "    solution_objective += file['solution objective'].tolist()\n",
    "\n",
    "data1['seed'] = seeds\n",
    "data1['size'] = size\n",
    "data1['optimizer'] = opt\n",
    "data1['state after 1st iteration'] = first_state\n",
    "data1['probability for the 1st state'] = first_prob\n",
    "data1['energy for the 1st state'] = first_energy\n",
    "data1['terminate iterations'] = terminate_it\n",
    "data1['energy'] = energy\n",
    "data1['time (s)'] = time\n",
    "data1['max cut objective'] = max_cum_objective\n",
    "data1['solution'] = solution\n",
    "data1['solution objective'] = solution_objective\n",
    "\n",
    "data1.to_excel(writer1)\n",
    "writer1.save()"
   ]
  },
  {
   "cell_type": "code",
   "execution_count": null,
   "id": "c8c91c5d",
   "metadata": {},
   "outputs": [],
   "source": []
  }
 ],
 "metadata": {
  "kernelspec": {
   "display_name": "Python 3 (ipykernel)",
   "language": "python",
   "name": "python3"
  },
  "language_info": {
   "codemirror_mode": {
    "name": "ipython",
    "version": 3
   },
   "file_extension": ".py",
   "mimetype": "text/x-python",
   "name": "python",
   "nbconvert_exporter": "python",
   "pygments_lexer": "ipython3",
   "version": "3.9.7"
  }
 },
 "nbformat": 4,
 "nbformat_minor": 5
}
